{
  "cells": [
    {
      "cell_type": "markdown",
      "metadata": {
        "id": "_Tgm8mCA9Dp3"
      },
      "source": [
        "# Laboratorio 7: Clasificación 🤗\n",
        "\n",
        "<center><strong>MDS7202: Laboratorio de Programación Científica para Ciencia de Datos - Primavera 2024</strong></center>\n"
      ]
    },
    {
      "cell_type": "markdown",
      "metadata": {
        "id": "11Kc_ibM9GXH"
      },
      "source": [
        "### Cuerpo Docente:\n",
        "\n",
        "- Profesores: Ignacio Meza, Sebastián Tinoco\n",
        "- Auxiliar: Eduardo Moya\n",
        "- Ayudantes: Nicolás Ojeda, Melanie Peña, Valentina Rojas"
      ]
    },
    {
      "cell_type": "markdown",
      "metadata": {
        "id": "u9dUSltr9JrN"
      },
      "source": [
        "### Equipo: SUPER IMPORTANTE - notebooks sin nombre no serán revisados\n",
        "\n",
        "- Nombre de alumno 1: Diego Bartolucci\n",
        "- Nombre de alumno 2: Pilar Nilo"
      ]
    },
    {
      "cell_type": "markdown",
      "metadata": {
        "id": "XkuYNztOaccf"
      },
      "source": [
        "### **Link de repositorio de GitHub:** [Repositorio](https://github.com/DiegoBarto01/MDS7202-pili-barto.git)"
      ]
    },
    {
      "cell_type": "markdown",
      "metadata": {
        "id": "YBa48PDF9OHw"
      },
      "source": [
        "### Temas a tratar\n",
        "- Clasificación en problemas desbalanceados\n",
        "- Lightgbm y xgboost\n",
        "- Pipelines"
      ]
    },
    {
      "cell_type": "markdown",
      "metadata": {
        "id": "mkhnnMx49Qrh"
      },
      "source": [
        "### Reglas:\n",
        "\n",
        "- **Grupos de 2 personas**\n",
        "- Cualquier duda fuera del horario de clases al foro. Mensajes al equipo docente serán respondidos por este medio.\n",
        "- Prohibidas las copias.\n",
        "- Pueden usar cualquer matrial del curso que estimen conveniente.\n",
        "- Código que no se pueda ejecutar, no será revisado."
      ]
    },
    {
      "cell_type": "markdown",
      "metadata": {
        "id": "sxzJ48Vv8quO"
      },
      "source": [
        "\n",
        "\n",
        "### Objetivos principales del laboratorio\n",
        "- Comprender cómo trabajar con problemas de clasificación con clases desbalanceadas.\n",
        "- Aplicar los modelos lightgbm y xgboost.\n",
        "- Practicar Pipelines"
      ]
    },
    {
      "cell_type": "markdown",
      "metadata": {
        "id": "k-ao0mOU64Ru"
      },
      "source": [
        "# Parte Teórica [12 puntos]\n",
        "\n",
        "\n"
      ]
    },
    {
      "cell_type": "markdown",
      "metadata": {
        "id": "ApXKwPDmxcEV"
      },
      "source": [
        "1. Explique cuál es la diferencia entre los datos de entrenamiento y validación. [1 punto]\n",
        "\n",
        "2. Explique cuál es el principal desafío al trabajar problemas de clasificación con data no supervisada. [1 punto]\n",
        "\n",
        "3. Explique en **sus palabras** qué es la matriz de confusión y para qué se utiliza. [1 puntos]\n",
        "\n",
        "4. Escriba la fórmula de las siguientes métricas y explique con **sus palabras** cómo se interpretan. [1 punto cada uno]\n",
        "\n",
        "  * Accuracy\n",
        "  * Precision\n",
        "  * Recall\n",
        "  * F1 score\n",
        "\n",
        "5. Explique qué métrica recomendaría para los siguientes contextos de clasificación. [1 punto cada uno]\n",
        "\n",
        "  * Mantenimiento predictivo de fallas de maquinaria pesada en la industria minera.  \n",
        "  * Detección de enfermedades altamente contagiosas.\n",
        "  * Aprobación de créditos de alto riesgo.\n",
        "  * Detección de crímenes.\n",
        "\n",
        "6. Explique qué es la calibración de modelos y para qué se usa. [1 punto]\n"
      ]
    },
    {
      "cell_type": "markdown",
      "metadata": {
        "id": "Yy4QMWD8-FPk"
      },
      "source": [
        "**Respuesta:**"
      ]
    },
    {
      "cell_type": "markdown",
      "metadata": {
        "id": "QYFdD1aK-ICa"
      },
      "source": [
        "*Escriba su respuesta aquí*\n",
        "\n",
        "\n",
        "\n",
        "1. Los datos de entrenamiento permiten entrenar el modelo, en cambio los datos de validación se usan para seleccionar el mejor modelo al ir variando sus hiperparámetros.\n",
        "\n",
        "2. El principal desafío al trabajar problemas de clasificación con data no supervisada corresponde a la falta de etiquetas en los datos de entrenamiento. Debido a esto se vuelve complejo tanto el evaluar el rendimiento del modelo correctamente como la calidad de los datos utilizados.\n",
        "\n",
        "3. La matriz de confusión representa el desempeño que tiene el modelo para predecir y hacerlo de manera correcta, por lo que se visualiza un eje de predicción y otra de etiquetas verdaderas, con cuatro cuadrantes donde se visualiza la tasa de predicciones correctas para cada clases y la tasa de error de predicción para cada clase también.\n",
        "\n",
        "4.\n",
        "\n",
        "*   **Accuracy:** (True Positive + True Negative)/(True Positive + True Negative + False Positive + False Negative). Calcula la tasa de predicciones correctas que tuvo por sobre todo el conjunto de datos.\n",
        "*   **Precision:** True Positive / (True Positive + False Positive). Calcula la tasa de predicción correcta de la clase True.  \n",
        "* **Recall:** True positive /(True Positive + False Negative). Calcula la tasa con la que los valores de la clase True son clasififcados de manera correcta.\n",
        "* **F1 Score:** 2* (Precision * Recall) / (Precision + Recall). Permite calcular la precisión del modelo y por eso combina la precision y el recall, utilizandolos para obtener un valor medio entre estas métricas mencionadas.\n",
        "\n",
        "5.\n",
        "\n",
        "*   **Mantenimiento predictivo de fallas de maquinaria pesada en la industria minera:** En el mantenimiento predictivo, es esencial detectar todas las posibles fallas antes de que sucedan para evitar las interrupciones del funcionamiento por lo que serviría la métrica de recall, ya que mide la capacidad del modelo para identificar todos los casos verdaderos de fallas y permitiendo asegurar que pocas fallas reales sean omitidas.\n",
        "*   **Detección de enfermedades altamente contagiosas:** Para el caso de detección de enfermedades altamente contagiosas tanto los falsos positivos como los falsos negativos tienen consecuencias graves, por lo que la métrica óptima correspondería a F1 score ya que este permite un equilibrio entre el recall y la precision, asegurando que el modelo presente buenos valores en ambos.\n",
        "*   **Aprobación de créditos de alto riesgo:** En este caso de aprobación de créditos de alto riesgo es más importante disminuir los falsos positivos (considerando los falsos positivos como personas aprobadas que no pueden pagar el crédito) que los faltos negativos (personas que podían pagar el crédito rechazadas). Debido a esto es esencial la métrica de precision ya que este permitiría medir cuantas de estas personas aprobadas realmente pueden pagar el crédito.\n",
        "*   **Detección de crímenes:** En la detección de crímenes es necesario identificar la mayor cantidad de estos posibles, sean reales o no, ya que es preferente detectar un crimen falso (caso de falso positivo) a no detectar un crímen real (falso negativo). Ante esto la métrica ideal corresponde a recall ya que prioriza la detección de todos los casos positivos.\n",
        "\n",
        "6. La calibración de modelos es el proceso mediante el cual se ajustan las predicciones de probabilidad de un modelo de clasificación para que reflejen mejor la probabilidad real de un suceso. Esto se usa principalmente en contextos donde es importante no solo clasificar correctamente, sino también proporcionar una estimación de la probabilidad de que ocurra un evento.\n",
        "\n",
        "\n"
      ]
    },
    {
      "cell_type": "markdown",
      "metadata": {
        "id": "Jg_9jBqtgRDO"
      },
      "source": [
        "# Parte práctica [48 puntos]"
      ]
    },
    {
      "cell_type": "markdown",
      "metadata": {
        "id": "slm6yRfdfZwS"
      },
      "source": [
        "<p align=\"center\">\n",
        "  <img src=\"https://i.ibb.co/61L8z0w/renacin-by-volframio-dcirf4l-fullview.jpg\"\n",
        "\" width=\"400\">\n",
        "</p>\n",
        "\n",
        "\n",
        "\n",
        "Tras el trágico despido de la mítica mascota de Maipú, Renacín decide adentrarse como consultor en el mercado futbolero, el cuál (para variar...) está cargado en especulaciones.\n",
        "\n",
        "Como su principal tarea será asesorar a los directivos de los clubes sobre cuál jugador comprar y cuál no, Renacín desea generar modelos predictivos que evaluén distintas características de los jugadores; todo con el fin de tomar decisiones concretas basadas en los datos.\n",
        "\n",
        "Sin embargo, su condición de corporeo le impidió tomar la versión anterior de MDS7202, por lo que este motivo Renacín contrata a su equipo para lograr su objetivo final. Dado que aún tiene fuertes vínculos con la dirección de deportes de la municipalidad, el corporeo le entrega base de datos con las estadísticas de cada jugador para que su equipo empieze a trabajar ya con un dataset listo para ser usado.\n"
      ]
    },
    {
      "cell_type": "markdown",
      "metadata": {
        "id": "jnbx7RwHfkue"
      },
      "source": [
        "**Los Datos**\n",
        "\n",
        "Para este laboratorio deberán trabajar con el csv `statsplayers.csv`, donde deberán aplicar algoritmos de aprendizaje supervisado de clasificación en base a características que describen de jugadores de fútbol.\n",
        "\n",
        "Para comenzar cargue el dataset señalado y a continuación vea el reporte **`Player_Stats_Report.html`** (adjunto en la carpeta del enunciado) que describe las características principales del `DataFrame`."
      ]
    },
    {
      "cell_type": "code",
      "execution_count": null,
      "metadata": {
        "colab": {
          "base_uri": "https://localhost:8080/"
        },
        "id": "mX6iwOWUfrp_",
        "outputId": "e5fab621-52d6-4531-fa0f-6a5f01f8f374"
      },
      "outputs": [],
      "source": [
        "# Si usted está utilizando Colabolatory le puede ser útil este código para cargar los archivos.\n",
        "try:\n",
        "    from google.colab import drive\n",
        "    drive.mount(\"/content/drive\")\n",
        "    path = '/content/drive/MyDrive/Lab_7'\n",
        "except:\n",
        "    print('Ignorando conexión drive-colab')"
      ]
    },
    {
      "cell_type": "code",
      "execution_count": 4,
      "metadata": {
        "id": "SnJ31AUizaBb"
      },
      "outputs": [],
      "source": [
        "#importacion de todas las librerias o modulos a utilizar\n",
        "import pandas as pd\n",
        "import numpy as np\n",
        "import matplotlib.pyplot as plt\n",
        "import seaborn as sns\n",
        "from sklearn.compose import ColumnTransformer\n",
        "from sklearn.preprocessing import OneHotEncoder, MinMaxScaler, StandardScaler, LabelEncoder\n",
        "from sklearn.model_selection import train_test_split\n",
        "from sklearn.pipeline import Pipeline\n",
        "from xgboost import XGBClassifier\n",
        "from lightgbm import LGBMClassifier\n",
        "from sklearn.metrics import classification_report, accuracy_score, precision_score, recall_score\n",
        "from sklearn.svm import SVC"
      ]
    },
    {
      "cell_type": "code",
      "execution_count": 5,
      "metadata": {
        "id": "02qYOi7MvTRo"
      },
      "outputs": [],
      "source": [
        "csv_path= path + '/stats_players.csv'\n",
        "df_players= pd.read_csv(csv_path)"
      ]
    },
    {
      "cell_type": "markdown",
      "metadata": {
        "id": "JdcucZhp-M_0"
      },
      "source": [
        "## 1. Predicción de Seleccionados Nacionales [14 puntos]"
      ]
    },
    {
      "cell_type": "markdown",
      "metadata": {
        "id": "HXrewqxjjzvA"
      },
      "source": [
        "<p align=\"center\">\n",
        "  <img src=\"https://www.futuro.cl/wp-content/uploads/2016/06/chile-argentina-meme-12.jpg\" width=\"300\">\n",
        "</p>\n",
        "\n"
      ]
    },
    {
      "cell_type": "markdown",
      "metadata": {
        "id": "Qfre1YsSDqla"
      },
      "source": [
        "### 1.1 Preprocesamiento [5 puntos]"
      ]
    },
    {
      "cell_type": "markdown",
      "metadata": {
        "id": "IR00u4HTDtxv"
      },
      "source": [
        "Tareas:\n",
        "\n",
        "1. Genere los labels para la clasificación binaria en una variable llamada `label`. Para esto, trabaje sobre el atributo `National_Position` suponiendo que los valores nulos son jugadores no seleccionados para representar a su país. [Sin puntaje]\n",
        "\n",
        "2. Hecho esto, ¿cuántos se tienen ejemplos por cada clase? Comente lo que observa. [1 punto]\n",
        "\n",
        "3. Genere un `ColumnTransformer` en donde especifique las transformaciones que hay que realizar para cada columna (por ejemplo StandarScaler, MinMaxScaler, OneHotEncoder, etc...) para que puedan ser utilizadas correctamente por el modelo predictivo y guárdelo una variable llamada `col_transformer`. [2 puntos]\n",
        "\n",
        "4. Comente y justifique las transformaciones elegidas sobre cada una de las variables (para esto utilice el material `Player_Stats_Report.html` que viene en el zip del lab), al igual que las transformaciones aplicadas. [2 puntos]"
      ]
    },
    {
      "cell_type": "markdown",
      "metadata": {
        "id": "tgAk0kbPjEsx"
      },
      "source": [
        "**Respuesta:**"
      ]
    },
    {
      "cell_type": "code",
      "execution_count": 6,
      "metadata": {
        "id": "JhC2sZj9dSI1"
      },
      "outputs": [],
      "source": [
        "#1. labels para clasificacion binaria, valores nulos son jugadores no seleccionados para representar a su país\n",
        "df_players['label']= df_players['National_Position'].apply(lambda x: 0 if pd.isna(x) else 1)"
      ]
    },
    {
      "cell_type": "code",
      "execution_count": null,
      "metadata": {
        "colab": {
          "base_uri": "https://localhost:8080/",
          "height": 178
        },
        "id": "scHkAaQ82sou",
        "outputId": "91a36279-80f3-408b-f82b-976d1edfa7ea"
      },
      "outputs": [],
      "source": [
        "#2. ¿cuantos ejemplos se tienen por cada clase?\n",
        "df_players['label'].value_counts()"
      ]
    },
    {
      "cell_type": "markdown",
      "metadata": {
        "id": "iIWGmwDE2jsZ"
      },
      "source": [
        "*2. ¿Cuantos ejemplos se tienen por cada clase?*\n",
        " > Clase 0: 16513\n",
        "\n",
        " > Clase 1: 1075\n",
        "\n",
        "Lo anterior indica que hay pocos jugadores que son seleccionados para representar a su país y las clases están desbalanceadas"
      ]
    },
    {
      "cell_type": "code",
      "execution_count": null,
      "metadata": {
        "colab": {
          "base_uri": "https://localhost:8080/",
          "height": 423
        },
        "collapsed": true,
        "id": "PhjHyqBM18LQ",
        "outputId": "e9b0a0fb-6ff7-42fb-c613-da5fa1640b31"
      },
      "outputs": [],
      "source": [
        "df_players[['National_Position','label']]"
      ]
    },
    {
      "cell_type": "code",
      "execution_count": null,
      "metadata": {
        "colab": {
          "base_uri": "https://localhost:8080/",
          "height": 1000
        },
        "id": "ALqxPSWe5WKH",
        "outputId": "9dee9f65-5aa8-40f3-e0c3-eeec5ec00490"
      },
      "outputs": [],
      "source": [
        "df_players.dtypes"
      ]
    },
    {
      "cell_type": "code",
      "execution_count": 10,
      "metadata": {
        "id": "cULDqDElyaM4"
      },
      "outputs": [],
      "source": [
        "#3.Genere un columntransformer especifique las transformaciones que hay que realizar para cada columna\n",
        "#standarscaler--> estandarizar datos, usados en distribuciones normales\n",
        "#minmaxscaler utilizado sobre una distribución de datos no normales.\n",
        "#OneHotEncoder para variables categoricas\n",
        "\n",
        "var_categoricas=['Club_Position','Preffered_Foot','Work_Rate','Weak_foot','Skill_Moves']\n",
        "var_standardScaler=['Weight','Height','Aggression','Reactions','Strength','Agility','Jumping',\n",
        "                    'Curve','Short_Pass','Long_Pass','Penalties','Speed']\n",
        "var_minmaxScaler=df_players.columns[~df_players.columns.isin(var_standardScaler+var_categoricas+['label','National_Position','Name','Nationality'])]\n",
        "\n",
        "#la columntrasnformer\n",
        "col_transformer=ColumnTransformer([('Standar Scaler',StandardScaler(),var_standardScaler),\n",
        "                                   ('Min Max Scaler',MinMaxScaler(),var_minmaxScaler),\n",
        "                                   ('One Hot Encoder',OneHotEncoder(sparse_output = False),var_categoricas)])\n"
      ]
    },
    {
      "cell_type": "markdown",
      "metadata": {
        "id": "z0xnt3J4YCk2"
      },
      "source": [
        "*4.Comente y justifique las transformaciones elegidas sobre cada una de las variables*\n",
        "\n",
        "\n",
        "A groso modo se escoge la transformación StandardScaler para las variables que presentan una distribución normal según el .html\n",
        "\n",
        "La transformación MinMaxScaler para las variables que presentan una distribución no normal según el .html\n",
        "\n",
        "Por último se usa el OneHotEncoder para variables que no son númericas, es decir categoricas ya que es una transformación usada especialmente para este tipo de variables.\n",
        "\n",
        "Como acotación, se excluyen de las transformaciones las columnas 'label' ya que posee las etiquetas, 'National_Position' ya que es la columna en la que se basan los labels, 'Name' que no aporta mayor información, es irrelevante, y 'Nationality' que tambien se relaciona de alguna manera con national_position."
      ]
    },
    {
      "cell_type": "markdown",
      "metadata": {
        "id": "Bv1HOfcNEPF4"
      },
      "source": [
        "### 1.2 Entrenamiento [3 puntos]"
      ]
    },
    {
      "cell_type": "markdown",
      "metadata": {
        "id": "whPkuXTUBvB0"
      },
      "source": [
        "Ahora, vamos a entrenar los pipelines generados en los pasos anteriores. Para esto, debe realizar las siguientes tareas:\n",
        "\n",
        "1. Separe los datos de entrenamiento en un conjunto de entrenamiento y de prueba  (la proporción queda a su juicio). En este paso, seleccione los ejemplos de forma aleatoria e intente mantener la distribución original de labels de cada clase en los conjuntos de prueba/entrenamiento. (vea la documentación de `train_test_split`). [1 puntos]\n",
        "\n",
        "\n",
        "2. Defina un pipeline llamado `pipeline_xgboost` y otro llamado `pipeline_lightgbm`. Estos pipelines deben tener el mismo ColumnTransformer definido en la sección de preprocesamiento, pero deben variar los clasificadores de acuerdo al nombre de cada pipeline. [1 puntos]\n",
        "\n",
        "3. Entrene los pipelines. [1 punto]\n",
        "\n"
      ]
    },
    {
      "cell_type": "markdown",
      "metadata": {
        "id": "kbadONFtjGnE"
      },
      "source": [
        "**Respuesta:**"
      ]
    },
    {
      "cell_type": "code",
      "execution_count": 11,
      "metadata": {
        "id": "lLtlXGTPdWAV"
      },
      "outputs": [],
      "source": [
        "#1. Separar los datos de entrenamiento en conjunto de entrenamiento y prueba (usaremos proporcion 80,20)\n",
        "X_train, X_test, y_train, y_test = train_test_split(df_players.drop(columns=['label']), df_players['label'], test_size=0.2, random_state=0, stratify=df_players['label'])\n",
        "#2. defina un pipeline 'pipeline_xgboost' y otro 'pipeline_lightgbm' deben tener el mismo column transformer\n",
        "pipeline_xgboost=Pipeline([('col_transformer',col_transformer),('xgboost',XGBClassifier())])\n",
        "pipeline_lightgbm=Pipeline([('col_transformer',col_transformer),('lightgbm',LGBMClassifier())])"
      ]
    },
    {
      "cell_type": "code",
      "execution_count": null,
      "metadata": {
        "colab": {
          "base_uri": "https://localhost:8080/",
          "height": 219
        },
        "id": "n4leElJq4JHe",
        "outputId": "7c0f790d-f814-4f9c-ada3-142d28e1295f"
      },
      "outputs": [],
      "source": [
        "#3. entrene los pipelines\n",
        "pipeline_xgboost.fit(X_train,y_train)"
      ]
    },
    {
      "cell_type": "code",
      "execution_count": null,
      "metadata": {
        "colab": {
          "base_uri": "https://localhost:8080/",
          "height": 358
        },
        "id": "IVvRt5RJ4J9b",
        "outputId": "363275fd-22c1-4636-8ab8-ced26532e922"
      },
      "outputs": [],
      "source": [
        "pipeline_lightgbm.fit(X_train,y_train)"
      ]
    },
    {
      "cell_type": "markdown",
      "metadata": {
        "id": "poc9HSNBFeKO"
      },
      "source": [
        "### 1.3 Resultados [6 puntos]"
      ]
    },
    {
      "cell_type": "markdown",
      "metadata": {
        "id": "tGGCj8YtFil1"
      },
      "source": [
        "1. Calcule las métricas accuracy, precisión y recall de la clase positiva (la que indica que un jugador es seleccionado nacional) para evaluar el rendimiento de los distintos modelos. Verifique sus resultados usando `classification_report`. [2 puntos]\n",
        "\n",
        "2. Explique qué implican los valores de accuracy, precisión y recall de la clase positiva (la que indica que un jugador es seleccionado nacional) y cómo influye la cantidad de ejemplos por clase en los resultados obtenidos. [2 puntos]\n",
        "\n",
        "3. Explique qué métrica le parece más adecuada y concluya qué modelo tiene un mejor desempeño. [2 puntos]"
      ]
    },
    {
      "cell_type": "markdown",
      "metadata": {
        "id": "A1hkVFdujJTi"
      },
      "source": [
        "**Respuesta:**"
      ]
    },
    {
      "cell_type": "code",
      "execution_count": null,
      "metadata": {
        "colab": {
          "base_uri": "https://localhost:8080/"
        },
        "id": "QNmI_tbbdQte",
        "outputId": "1c841200-8a16-4364-a7fd-b9071cb03267"
      },
      "outputs": [],
      "source": [
        "#1. calcular metricas accuracy, precision y recall de la clase positiva (jugaor seleccionado), use classification_report\n",
        "#calculalmos accuracy\n",
        "accuracy_xgboost=accuracy_score(y_test,pipeline_xgboost.predict(X_test))\n",
        "print(f'Accuracy_sgboost: {accuracy_xgboost}')\n",
        "accuracy_LGBM=accuracy_score(y_test,pipeline_lightgbm.predict(X_test))\n",
        "print(f'Accuracy_LGBM: {accuracy_LGBM}')\n",
        "#precision\n",
        "precision_xgboost=precision_score(y_test,pipeline_xgboost.predict(X_test))\n",
        "print(f'Precision_xgboost: {precision_xgboost}')\n",
        "precision_LGBM=precision_score(y_test,pipeline_lightgbm.predict(X_test))\n",
        "print(f'Precision_LGBM: {precision_LGBM}')\n",
        "#recall\n",
        "recall_xgboost=recall_score(y_test,pipeline_xgboost.predict(X_test))\n",
        "print(f'Recall_xgboost: {recall_xgboost}')\n",
        "recall_LGBM=recall_score(y_test,pipeline_lightgbm.predict(X_test))\n",
        "print(f'Recall_LGBM: {recall_LGBM}')\n",
        "\n",
        "#verificacion usando classification report\n",
        "print(f'Classification report xgboost: ','\\n',classification_report(y_test,pipeline_xgboost.predict(X_test)))\n",
        "print(f'Classification report LGBM: ','\\n',classification_report(y_test,pipeline_lightgbm.predict(X_test)))\n"
      ]
    },
    {
      "cell_type": "markdown",
      "metadata": {
        "id": "GkIu4RDYd2OF"
      },
      "source": [
        "*2.Explique qué implican los valores de accuracy, precisión y recall de la clase positiva (la que indica que un jugador es seleccionado nacional) y cómo influye la cantidad de ejemplos por clase en los resultados obtenidos.*\n",
        "\n",
        "Los valores del accuracy son bastante altos en ambos modelos, esto quiere decir que ambos clasifican correctamente.\n",
        "\n",
        "Los valores de precision de la clase positiva es mayor en el modelo LGBM lo que indica que este modelo realiza la predicción de manera correcta con más probabilidad que el modelo XGBOOST.\n",
        "\n",
        "Los valores de recall de la clase positiva es similar en ambos modelos y este es bajo, lo que implica que los jugadores están siendo clasificados como no seleccionados cuando debiesen ser clasificados como seleccionados.\n",
        "\n",
        "Lo anterior se puede deber a la poca cantidad de datos en la clase positiva, 215, por lo que los modelos estarán sesgados.\n",
        "\n",
        "\n"
      ]
    },
    {
      "cell_type": "markdown",
      "metadata": {
        "id": "QzKozeCllWgJ"
      },
      "source": [
        "*3.Explique qué métrica le parece más adecuada y concluya qué modelo tiene un mejor desempeño.*\n",
        "\n",
        "Como los datos están desbalancedos provocando sesgo al momento de clasificar, el accuracy no sirve para escoger que modelo es mejor clasificando.\n",
        "\n",
        " Por lo que serviría utilizar el precision y el recall, en especifico se podría utilizar el F1-Score que como fue explicado en la sección de preguntas teoricas, permite calcular la precision del modelo con el precision y el recall.\n",
        "\n",
        "Así el mejor desempeño lo obtiene el modelo con mayor F1-Score, es decir, LGBM con un F1-Score de 0.31 en la clase positiva.\n",
        "\n"
      ]
    },
    {
      "cell_type": "markdown",
      "metadata": {
        "id": "uy5VMU6ae_g6"
      },
      "source": [
        "## 2. Predicción de posiciones de jugadores [4 puntos]"
      ]
    },
    {
      "cell_type": "markdown",
      "metadata": {
        "id": "S0PGg_hLgr4H"
      },
      "source": [
        "<p align=\"center\">\n",
        "  <img src=\"https://pbs.twimg.com/media/E1rfA1aWEAYU6Ny.jpg\" width=\"300\">\n",
        "</p>"
      ]
    },
    {
      "cell_type": "markdown",
      "metadata": {
        "id": "I6rSnAesfOm3"
      },
      "source": [
        "En una nueva jornada de desmesuradas transacciones deportivas, Renacín escuchó a sus colegas discutir acerca de que el precio de cada jugador depende en gran medida de la posición en la cancha en la que juega. Y además, que hay bastantes jugadores nuevos que no tienen muy claro en que posición verdaderamente brillarían, por lo que actualmente puede que actualmente estén jugando en posiciones sub-optimas.\n",
        "\n",
        "Viendo que los resultados del primer análisis no son tan esperanzadores, el corporeo los comanda a cambiar su tarea: ahora, les solicita que construyan un clasificador enfocado en predecir la mejor posición de los jugadores en la cancha según sus características.\n",
        "\n",
        "Para lograr esto, primero, les pide que etiqueten de la siguiente manera los valores que aparecen en el atributo `Club_Position`, pidiendo que agrupen los valores en los siguientes grupos:\n",
        "\n",
        "**Nota**:  Renacín les recalca que **no deben utilizar los valores ```Sub``` y ```Res``` de esta columna**.\n",
        "\n",
        "```python\n",
        "ataque = ['ST', 'CF']\n",
        "central_ataque = ['RW', 'CAM', 'LW']\n",
        "central = ['RM', 'CM', 'LM']\n",
        "central_defensa = ['RWB', 'CDM', 'LWB']\n",
        "defensa = ['RB', 'CB', 'LB']\n",
        "arquero = ['GK']\n",
        "```\n",
        "\n",
        "La elección del clasificador se justificar en base a la siguiente [guía](https://scikit-learn.org/stable/tutorial/machine_learning_map/index.html) y se deben comentar los resultados obtenidos en la clasificación.\n",
        "\n",
        "**Tareas:** [1 punto por tarea]\n",
        "\n",
        "1. En un nuevo dataframe, aplique las etiquetas descritas anteriormente en cada uno de los valores señalados en esta sección y guárdelos en la variable `label`.\n",
        "2. Cuente cuántos por clase quedan.\n",
        "3. Entrene el nuevo pipeline y ejecute una evaluación de este.  \n",
        "4. Comente los resultados obtenidos."
      ]
    },
    {
      "cell_type": "markdown",
      "metadata": {
        "id": "sBmSaWh8i2MI"
      },
      "source": [
        "**Respuesta:**"
      ]
    },
    {
      "cell_type": "markdown",
      "metadata": {
        "id": "1tehhWJzuo-U"
      },
      "source": [
        "*Justificación de la elección del clasificador*\n",
        "\n",
        "En base a la guía del enunciado en esta pregunta, tenemos que el dataset tiene más de 50 samples, luego la función si será predecir una categoria para despúes elegir el camino en que sí tiene label el dataset, ya que si lo tiene, y por último vemos si este dataframe contiene más de 100mil samples, lo cual es falso ya que solo posee menos de 10mil samples. Con lo anterior, nos da el **modelo Linear SVC.**"
      ]
    },
    {
      "cell_type": "code",
      "execution_count": 15,
      "metadata": {
        "id": "Ir_7zMh2i1vg"
      },
      "outputs": [],
      "source": [
        "#1. en nuevo dataframe, aplique las etiquetas descritas en cada uno de los valores señalados y guardar en label\n",
        "#copiamos el df\n",
        "df_players_new=df_players.copy()\n",
        "etiquetas={\n",
        "    'ST': 'ataque',\n",
        "    'CF': 'ataque',\n",
        "    'RW': 'central_ataque',\n",
        "    'CAM': 'central_ataque',\n",
        "    'LW': 'central_ataque',\n",
        "    'RM': 'central',\n",
        "    'CM': 'central',\n",
        "    'LM': 'central',\n",
        "    'RWB': 'central_defensa',\n",
        "    'CDM': 'central_defensa',\n",
        "    'LWB': 'central_defensa',\n",
        "    'RB': 'defensa',\n",
        "    'CB': 'defensa',\n",
        "    'LB': 'defensa',\n",
        "    'GK': 'arquero'\n",
        "}\n",
        "df_players_new['label']=df_players_new['Club_Position'].map(etiquetas)\n",
        "\n",
        "#me quedo solo con las etiquetas anteriores\n",
        "etiquetas_seleccionadas=['ataque', 'central_ataque', 'central', 'central_defensa', 'defensa', 'arquero']\n",
        "df_players_new=df_players_new[df_players_new['label'].isin(etiquetas_seleccionadas)]\n",
        "#arreglo los indices\n",
        "df_players_new.reset_index(drop=True,inplace=True)"
      ]
    },
    {
      "cell_type": "code",
      "execution_count": 16,
      "metadata": {
        "id": "f-Bcqz5_OlNy"
      },
      "outputs": [],
      "source": [
        "var_categoricas_new=['Preffered_Foot','Work_Rate','Weak_foot','Skill_Moves']\n",
        "var_standardScaler_new=['Weight','Height','Aggression','Reactions','Strength','Agility','Jumping',\n",
        "                    'Curve','Short_Pass','Long_Pass','Penalties','Speed']\n",
        "var_minmaxScaler_new=df_players_new.columns[~df_players_new.columns.isin(var_standardScaler_new+var_categoricas_new+['label','National_Position','Name','Nationality','Club_Position'])]"
      ]
    },
    {
      "cell_type": "code",
      "execution_count": null,
      "metadata": {
        "colab": {
          "base_uri": "https://localhost:8080/",
          "height": 585
        },
        "id": "9JDsYsvEHXDP",
        "outputId": "3aa037f3-3b8d-4f32-833b-b5b06b0bfb68"
      },
      "outputs": [],
      "source": [
        "df_players_new['Club_Position'].value_counts()"
      ]
    },
    {
      "cell_type": "code",
      "execution_count": null,
      "metadata": {
        "colab": {
          "base_uri": "https://localhost:8080/",
          "height": 303
        },
        "id": "b7yJtAYJ2bQR",
        "outputId": "7b33c4bf-f89e-4316-9cb9-c3f88626951b"
      },
      "outputs": [],
      "source": [
        "df_players_new['label'].value_counts()"
      ]
    },
    {
      "cell_type": "code",
      "execution_count": 19,
      "metadata": {
        "id": "NNsj5cDT2zS7"
      },
      "outputs": [],
      "source": [
        "#entrenar nuevo pipeline\n",
        "column_transformer_new=ColumnTransformer([('Standar Scaler',StandardScaler(),var_standardScaler_new),\n",
        "                                   ('Min Max Scaler',MinMaxScaler(),var_minmaxScaler_new),\n",
        "                                   ('One Hot Encoder',OneHotEncoder(sparse_output = False),var_categoricas_new)])\n",
        "#pipeline svc lineal\n",
        "pipeline_svc_linear=Pipeline([('col transformer new',column_transformer_new),('svc_linear',SVC(kernel='linear'))])"
      ]
    },
    {
      "cell_type": "code",
      "execution_count": 20,
      "metadata": {
        "id": "l1HH1_Rz7jms"
      },
      "outputs": [],
      "source": [
        "X_train_new, X_test_new, y_train_new, y_test_new = train_test_split(df_players_new.drop(columns=['label']), df_players_new['label'], test_size=0.2, random_state=0, stratify=df_players_new['label'])"
      ]
    },
    {
      "cell_type": "code",
      "execution_count": null,
      "metadata": {
        "colab": {
          "base_uri": "https://localhost:8080/"
        },
        "id": "NCctWP7U7v1p",
        "outputId": "3d7c8daf-5c90-4c2c-d193-1b4240098868"
      },
      "outputs": [],
      "source": [
        "#la clase está en texto, asi que de texto a clase\n",
        "label_encoder=LabelEncoder()\n",
        "df_players_new['label']=label_encoder.fit_transform(df_players_new['label'])\n",
        "y_train_new = label_encoder.fit_transform(y_train_new)\n",
        "y_test_new = label_encoder.transform(y_test_new)"
      ]
    },
    {
      "cell_type": "code",
      "execution_count": null,
      "metadata": {
        "colab": {
          "base_uri": "https://localhost:8080/",
          "height": 303
        },
        "id": "Wwi4OU7uPdwy",
        "outputId": "7085447b-2518-47d7-d899-8603e2c328ce"
      },
      "outputs": [],
      "source": [
        "df_players_new['label'].value_counts()"
      ]
    },
    {
      "cell_type": "code",
      "execution_count": null,
      "metadata": {
        "colab": {
          "base_uri": "https://localhost:8080/",
          "height": 585
        },
        "id": "C5kPl9-RPpZr",
        "outputId": "d118e941-9463-4594-feb0-c911c49dc855"
      },
      "outputs": [],
      "source": [
        "X_train_new['Club_Position'].value_counts()"
      ]
    },
    {
      "cell_type": "code",
      "execution_count": null,
      "metadata": {
        "colab": {
          "base_uri": "https://localhost:8080/",
          "height": 219
        },
        "id": "HRv30TV96DIs",
        "outputId": "91613f25-f41b-49d9-c50b-e8aa969d2ccc"
      },
      "outputs": [],
      "source": [
        "pipeline_svc_linear.fit(X_train_new,y_train_new)"
      ]
    },
    {
      "cell_type": "code",
      "execution_count": null,
      "metadata": {
        "colab": {
          "base_uri": "https://localhost:8080/"
        },
        "id": "xrhj0xhG6Ny0",
        "outputId": "f034d6b4-56c2-4cdd-b70b-a7952f6618b9"
      },
      "outputs": [],
      "source": [
        "#verificacion usando classification report\n",
        "print(f'Classification report svc: ','\\n',classification_report(y_test_new,pipeline_svc_linear.predict(X_test_new)))\n"
      ]
    },
    {
      "cell_type": "markdown",
      "metadata": {
        "id": "mDMzsu5vocwV"
      },
      "source": [
        "*Explicacion de los resultados*\n",
        "\n",
        "Se puede visualizar que tiene un accuracy bueno de 0.75, además el recall nos indica que la clase con menor tasa de correcta clasificacion es la 4 y coincide en que es la clase con menos ejemplares.\n"
      ]
    },
    {
      "cell_type": "markdown",
      "metadata": {
        "id": "9bL2m8nNojXM"
      },
      "source": [
        "## 3. Predicciones de Seleccionados Nacionales para el Jere Klein [30 puntos]"
      ]
    },
    {
      "cell_type": "markdown",
      "metadata": {
        "id": "_2XmRsJdsEh_"
      },
      "source": [
        "<center>\n",
        "<img src='https://www.radioactiva.cl/wp-content/uploads/2024/04/Jere-Klein-1-768x432.webp' width=500 />"
      ]
    },
    {
      "cell_type": "markdown",
      "metadata": {
        "id": "AgmUoVDsqUPu"
      },
      "source": [
        "Después de alcanzar la fama como cantante urbano, Jere Klein decide explorar una nueva faceta. Con su amor por el fútbol y convencido de que los artistas urbanos poseen un talento y versatilidad excepcionales, Jere se embarca en un proyecto innovador: desarrollar un sistema de inteligencia artificial capaz de identificar a jugadores que tienen potencial para convertirse en futbolistas profesionales. Su teoría es que muchos artistas del género urbano chileno, con sus habilidades únicas y su disciplina, podrían destacarse también en el deporte. Con este sistema, Jere espera no solo abrir nuevas oportunidades para sus colegas artistas, sino también demostrar la amplia gama de talentos que pueden ofrecer."
      ]
    },
    {
      "cell_type": "markdown",
      "metadata": {
        "id": "rD8pQ5Zfq8dE"
      },
      "source": [
        "### 2.1 ¿Qué modelo de árbol es más de \"pana\"? [10 puntos]"
      ]
    },
    {
      "cell_type": "markdown",
      "metadata": {
        "id": "zB-KUA4g99eo"
      },
      "source": [
        "<center>\n",
        "<img src='https://64.media.tumblr.com/39189215a7d3d96823cb359f35b44e05/tumblr_psmrhrR3Xw1qf5hjqo4_540.gif' width=300 />"
      ]
    },
    {
      "cell_type": "markdown",
      "metadata": {
        "id": "uL-moVhB9vPH"
      },
      "source": [
        "\n",
        "**Tareas**\n",
        "\n",
        "\n",
        "1. Considerando el la variable llamada `label` creada en la sección 1.1. Para determinar cuál modelo de árbol sería más adecuado para la tarea en cuestión, utilice PyCaret. Este deberá centrarse exclusivamente en modelos de tipo árbol. Jere ha especificado que busca un modelo que tome decisiones rápidamente y que tenga una baja tasa de falsos positivos, ya que planea invertir en estos jugadores. [3 puntos]\n",
        "\n",
        "Para la comparación, utilice los siguientes modelos:\n",
        "\n",
        "```python\n",
        "['et', 'rf', 'dt', 'xgboost', 'lightgbm', 'catboost']\n",
        "```\n",
        "\n",
        "2. Explique en brevemente que son los modelos de la siguiente lista `['et', 'rf', 'dt']` y como funcionan. [3 punto]\n",
        "\n",
        "3. Tras realizar la comparación de modelos, seleccione aquel que muestre el mejor rendimiento en términos de velocidad y precisión, especialmente en la reducción de falsos positivos. Utilice la función `evaluate_model` de PyCaret para revisar y analizar los resultados obtenidos en los siguientes aspectos:\n",
        "\n",
        "  - **Confusión Matrix**: ¿Cómo se encuentran la tasa de verdaderos positivos y verdaderos negativos?\n",
        "  - **Threshold**: ¿Es acaso el umbral por defecto del modelo el mejor para las predicciones?\n",
        "  - **Feature Importance**: ¿Cuáles son las variables con mejor desempeño? ¿A qué podría deberse esto?\n",
        "  - **Learning Curve**: ¿El modelo presenta algún problema?\n",
        "\n",
        "  [4 puntos]"
      ]
    },
    {
      "cell_type": "markdown",
      "metadata": {
        "id": "qY85nrViYROF"
      },
      "source": [
        "**Respuesta**"
      ]
    },
    {
      "cell_type": "code",
      "execution_count": null,
      "metadata": {
        "collapsed": true,
        "id": "rsbsyEMdByKz"
      },
      "outputs": [],
      "source": [
        "#!pip install pycaret[full]"
      ]
    },
    {
      "cell_type": "code",
      "execution_count": null,
      "metadata": {
        "colab": {
          "base_uri": "https://localhost:8080/",
          "height": 770
        },
        "id": "kUCjOjsEYUXL",
        "outputId": "d8017172-159e-47bc-a759-241773219ad9"
      },
      "outputs": [],
      "source": [
        "from pycaret.datasets import get_data\n",
        "from pycaret.classification import *\n",
        "import os\n",
        "\n",
        "os.environ[\"PYCARET_CUSTOM_LOGGING_LEVEL\"] = \"CRITICAL\"\n",
        "\n",
        "#Continuar código aquí\n",
        "df_comparacion = df_players.copy()\n",
        "df_comparacion = df_comparacion.drop(columns=['Name', 'National_Position', 'Nationality'])\n",
        "#Se excluyen estos parámetros para evaluar las características de los jugadores que es lo que se busca. Nationality se excluye ya que se menciona que se buscan artistas chilenos.\n",
        "comparacion = setup(data=df_comparacion, target='label', session_id=4444)"
      ]
    },
    {
      "cell_type": "code",
      "execution_count": null,
      "metadata": {
        "colab": {
          "base_uri": "https://localhost:8080/",
          "height": 237,
          "referenced_widgets": [
            "16be927713b3408ba2a794180df9c27c",
            "88c2066e9efd470593a4f979e0973892",
            "68a41ff6edac4adf8545ebc1e712015e",
            "881c6c3fa7514778bae6aa74779ac9c3",
            "a783c8e041a048d59949c8bc645ac43d",
            "7e1525b12cee4ae8b68ed6f6908f9b0f",
            "9cc2149bc1d643c1b26188293048cc33",
            "c4bbb0654fda481197baa36b59adc9c0",
            "e95b1d0b237242b0bcee9faeaf627de0",
            "d4356f9dcf4b477bbd6526169fcafc43",
            "4945bb63a7b343dfbce79c0f9751e7cd"
          ]
        },
        "id": "J-23wkfqwABU",
        "outputId": "7b6433ef-6b5a-4821-801f-2a18ec55d9af"
      },
      "outputs": [],
      "source": [
        "modelos = ['et', 'rf', 'dt', 'xgboost', 'lightgbm', 'catboost']\n",
        "mejor_modelo=compare_models(include=modelos, sort='Precision')"
      ]
    },
    {
      "cell_type": "markdown",
      "metadata": {
        "id": "8W1iX9QQ1Acy"
      },
      "source": [
        "#### 2.1.2\n",
        "\n",
        "* **ET**: Son las siglas de *Extra Trees* y corresponde a una variante de Random Forest. Este algoritmo construye múltiples árboles de decisión a partir de diferentes subconjuntos aleatorios del conjunto de datos y luego combina las predicciones de cada árbol para obtener un resultado final.\n",
        "\n",
        "* **RF**: Se refiere a *Random Forest*, un algoritmo de aprendizaje supervisado que crea diversos árboles de decisión. Las predicciones de estos árboles se combinan para mejorar la precisión y robustez del modelo.\n",
        "\n",
        "* **DT**: Hace referencia a *Decision Tree* y corresponde a un algoritmo de aprendizaje supervisado que divide el conjunto de datos en subconjuntos más pequeños utilizando características específicas. Este proceso se repite en cada nodo hasta alcanzar las divisiones finales que permiten realizar predicciones.\n"
      ]
    },
    {
      "cell_type": "markdown",
      "metadata": {
        "id": "mrW2manS14X1"
      },
      "source": [
        "#### 2.1.3\n",
        "El mejor modelo corresponde a *Extra Trees Classifier* ya que lo que se busca es la disminución de los falsos positivos por ende se quiere el modelo con más precisión, el cual corresponde al antes mencionado.\n",
        "\n",
        "* Confusión Matrix: ¿Cómo se encuentran la tasa de verdaderos positivos y verdaderos negativos?\n",
        "\n",
        "Sabiendo que la tasa de verdaderos positivos corresponde a los verdaderos positivos / verdaderos positivos +  falsos positivos lo que nos deja finalmente:\n",
        "\n",
        "\n",
        "```\n",
        "verdaderos positivos / (verdaderos positivos +  falsos positivos) = 22/(22+301) = 0.07\n",
        "```\n",
        "Mientras que la tasa de verdaderos negativos se calcula como verdaderos negativos / verdaderos negativos +  falsos negativos lo que nos da:\n",
        "```\n",
        "verdaderos negativos / (verdaderos negativos +  falsos negativos) = 4944/(4944+10) = 0.99\n",
        "```\n",
        "\n",
        "* Threshold: ¿Es acaso el umbral por defecto del modelo el mejor para las predicciones?\n",
        "\n",
        "El umbral por defecto del modelo presenta un equilibrio entre precisión y recall, pero ya que el objetivo principal es reducir los falsos positivos, se podría aumentar un poco el umbral. Esto ayudaría a mejorar la precisión, lo que podría reducir los falsos positivos.\n",
        "\n",
        "* Feature Importance: ¿Cuáles son las variables con mejor desempeño? ¿A qué podría deberse esto?\n",
        "\n",
        "Las variables con mejor desempeño corresponden a reactions y composure. Esto se puede deber a que corresponden a características esenciales en un jugador de fútbol ya que permiten tanto el reaccionar a los movimientos del rival y mantener la calma incluso en momentos difíciles del partido respectivamente.\n",
        "\n",
        "* Learning Curve: ¿El modelo presenta algún problema?\n",
        "\n",
        "Basandose en los datos presentes en la Learning curve, se puede concluir que existe un sobreajuste en los datos presentados.\n",
        "\n",
        "\n",
        "\n"
      ]
    },
    {
      "cell_type": "code",
      "execution_count": null,
      "metadata": {
        "colab": {
          "base_uri": "https://localhost:8080/",
          "height": 199,
          "referenced_widgets": [
            "831205b975bf49409a5823f28fbc2df0",
            "de58e528800f4c73a60da51eb3564942",
            "e744b7ff69b741df8edff83a101350e3",
            "aedcafae7b054efdbc6ec68934b0ebf3",
            "ba94edcc6f5241689bd414d50e2cbebb",
            "d33581d59e2e45e1aea1944dee0934e2",
            "8d7a48c89c9045c2ab6b6d7274d2adce"
          ]
        },
        "id": "0_p8sFQp3QEz",
        "outputId": "5884515d-7871-43a6-83f7-cb88342d6a2d"
      },
      "outputs": [],
      "source": [
        "evaluate_model(mejor_modelo)"
      ]
    },
    {
      "cell_type": "markdown",
      "metadata": {
        "id": "K8DSS3u1xMpB"
      },
      "source": [
        "### 2.2 Reducción de dimensionalidad [14 puntos]"
      ]
    },
    {
      "cell_type": "markdown",
      "metadata": {
        "id": "RLu0543p876P"
      },
      "source": [
        "<center>\n",
        "<img src='https://i.kym-cdn.com/photos/images/original/002/258/560/668.gif' width=400 />"
      ]
    },
    {
      "cell_type": "markdown",
      "metadata": {
        "id": "QT-bxJ0txwNF"
      },
      "source": [
        "A pesar de los resultados obtenidos previamente, el manager de Jere ha solicitado el entrenamiento de un modelo de XGBoost utilizando los datos disponibles. Además, se debe proceder a realizar una reducción de dimensionalidad basada en la importancia de las características.\n",
        "\n",
        "Para llevar a cabo esta tarea:\n",
        "\n",
        "1. Inicie entrenando un modelo XGBoost con todas las características disponibles. [2 puntos]\n",
        "\n",
        "2. Una vez el modelo esté entrenado, evalúe y clasifique las características según su importancia de forma descendente. [2 puntos]\n",
        "\n",
        "3. Utilice esta clasificación para ejecutar una búsqueda recursiva de eliminación de características, eliminando progresivamente las menos importantes y evaluando el impacto en el desempeño del modelo hasta identificar las N características más críticas. [2 puntos]\n",
        "\n",
        "4. Con este conjunto reducido de características, entrene un nuevo modelo y evalúe su rendimiento. [2 puntos]\n",
        "\n",
        "5. Posteriormente, responda a las siguientes preguntas para una comprensión más profunda de los cambios y beneficios:\n",
        "\n",
        "  - ¿El rendimiento del modelo con las características seleccionadas es similar al del modelo original? ¿Cómo se comparan en términos de precisión y robustez? [2 puntos]\n",
        "  - ¿Cuáles son los beneficios potenciales de eliminar variables del modelo? Considere factores como la simplificación del modelo, reducción del tiempo de entrenamiento, y mejora en la capacidad de generalización. [2 puntos]\n",
        "  - Comente si el modelo con menor dimensionalidad es más sencillo de explicar. Explique brevemente por qué la eliminación de ciertas características puede facilitar la comprensión y la explicación del comportamiento del modelo. [2 puntos]\n",
        "\n",
        "Notar que con esta metodologia buscamos encontrar un punto entermedio entre número de festures y desempeño. por esto, si observa que al aumentar festires el aumento es despreciable, puede no considerar agregar más features a su modelo."
      ]
    },
    {
      "cell_type": "markdown",
      "metadata": {
        "id": "NHfmK63TuDOS"
      },
      "source": [
        "**Respuesta**"
      ]
    },
    {
      "cell_type": "code",
      "execution_count": null,
      "metadata": {
        "colab": {
          "base_uri": "https://localhost:8080/",
          "height": 253
        },
        "id": "HQwUd_nsuDOe",
        "outputId": "1144d0a7-6c9f-4b12-8998-f15aeedf6cd7"
      },
      "outputs": [],
      "source": [
        "#1 Inicie entrenando un modelo XGBoost\n",
        "import xgboost as xgb\n",
        "columnas_objects = list(df_players.select_dtypes(include=['object']).columns)\n",
        "x = df_players.drop(columns=['label'])\n",
        "x = x.drop(columns=columnas_objects)\n",
        "y = df_players['label']\n",
        "\n",
        "# Dividir el conjunto de datos en entrenamiento y prueba\n",
        "X_train, X_test, y_train, y_test = train_test_split(x, y, test_size=0.4, random_state=444)\n",
        "\n",
        "# Entrenar el modelo XGBoost\n",
        "xgb_model = xgb.XGBClassifier()\n",
        "xgb_model.fit(X_train, y_train)"
      ]
    },
    {
      "cell_type": "code",
      "execution_count": null,
      "metadata": {
        "colab": {
          "base_uri": "https://localhost:8080/"
        },
        "id": "LBNyPHJdGIHE",
        "outputId": "bad492c3-4060-464d-ba50-d1abcedca515"
      },
      "outputs": [],
      "source": [
        "#2 Una vez el modelo esté entrenado, evalúe y clasifique las características según su importancia de forma descendente.\n",
        "y_pred = xgb_model.predict(X_test)\n",
        "\n",
        "print(classification_report(y_test, y_pred))"
      ]
    },
    {
      "cell_type": "code",
      "execution_count": null,
      "metadata": {
        "colab": {
          "base_uri": "https://localhost:8080/",
          "height": 1000
        },
        "id": "zl2XowqbG4FV",
        "outputId": "8246dfdf-7fcb-4edd-d1b2-ee7299de0a54"
      },
      "outputs": [],
      "source": [
        "# Se evalua la importancia de cada feature\n",
        "importances = xgb_model.feature_importances_\n",
        "feature_names = x.columns\n",
        "\n",
        "# Se crea un dataframe con la importancia de cada feature\n",
        "feature_importances = pd.DataFrame({'feature': feature_names, 'importance': importances})\n",
        "feature_importances = feature_importances.sort_values('importance', ascending=False)\n",
        "feature_importances"
      ]
    },
    {
      "cell_type": "code",
      "execution_count": null,
      "metadata": {
        "colab": {
          "base_uri": "https://localhost:8080/"
        },
        "id": "-sEQSsb4L0BF",
        "outputId": "14e45d41-4d05-4a78-f0a6-dc348825eb88"
      },
      "outputs": [],
      "source": [
        "#3 Utilice esta clasificación para ejecutar una búsqueda recursiva de eliminación de características\n",
        "# Utilizamos Recursive Feature Elimination para efectuar lo pedido\n",
        "from sklearn.feature_selection import RFE\n",
        "\n",
        "estimador = xgb.XGBClassifier()\n",
        "selector = RFE(estimador)\n",
        "\n",
        "selector = selector.fit(X_train, y_train)\n",
        "\n",
        "selector.support_"
      ]
    },
    {
      "cell_type": "code",
      "execution_count": 33,
      "metadata": {
        "id": "gd208JGXMoHu"
      },
      "outputs": [],
      "source": [
        "feature_importances['rfe'] = selector.support_"
      ]
    },
    {
      "cell_type": "code",
      "execution_count": null,
      "metadata": {
        "colab": {
          "base_uri": "https://localhost:8080/",
          "height": 253
        },
        "id": "HHfLUcG6Mvrd",
        "outputId": "305f6a2c-a932-4901-d995-1df3a9d8aec2"
      },
      "outputs": [],
      "source": [
        "#4 Con este conjunto reducido de características, entrene un nuevo modelo y evalúe su rendimiento.\n",
        "x_reducido = x\n",
        "x_reducido = x_reducido[list(feature_importances[feature_importances['rfe'] == True]['feature'])]\n",
        "y_reducido = y\n",
        "\n",
        "# Dividir el conjunto de datos en entrenamiento y prueba\n",
        "X_train_reducido, X_test_reducido, y_train_reducido, y_test_reducido = train_test_split(x_reducido, y_reducido, test_size=0.3, random_state=444)\n",
        "\n",
        "# Entrenar el modelo XGBoost\n",
        "xgb_model_reducido = xgb.XGBClassifier()\n",
        "xgb_model_reducido.fit(X_train_reducido, y_train_reducido)"
      ]
    },
    {
      "cell_type": "code",
      "execution_count": null,
      "metadata": {
        "colab": {
          "base_uri": "https://localhost:8080/"
        },
        "id": "SXv-GXBmPVY4",
        "outputId": "6744d057-7e2e-415d-ac13-fed63142f7cd"
      },
      "outputs": [],
      "source": [
        "y_pred_reducido = xgb_model_reducido.predict(X_test_reducido)\n",
        "\n",
        "print(classification_report(y_test_reducido, y_pred_reducido))"
      ]
    },
    {
      "cell_type": "markdown",
      "metadata": {
        "id": "gLeif3AND8qz"
      },
      "source": [
        "#### 2.2.5\n",
        "* ¿El rendimiento del modelo con las características seleccionadas es similar al del modelo original? ¿Cómo se comparan en términos de precisión y robustez?\n",
        "\n",
        "El rendimiento del modelo con las características seleccionadas se comporta de una manera similar al modelo original, proporcionando valores de precisión y robustez similares lo que implicaría que las variables seleccionadas son las más relevantes al momento de entrenar el modelo.\n",
        "\n",
        "* ¿Cuáles son los beneficios potenciales de eliminar variables del modelo? Considere factores como la simplificación del modelo, reducción del tiempo de entrenamiento, y mejora en la capacidad de generalización.\n",
        "\n",
        "Los principales beneficios que se tienen al eliminar variables del modelo corresponden a la simplificación de este, ya que se tienen que utilizar menos variables se vuelve un modelo más sencillo, reducción de tiempo, ya que se reduce el tiempo de entrenamiento del modelo debido a la disminución de dimensionalidad, y mejor generalización de modelo, a través de la eliminación de variables irrelevantes o que inducen \"ruido\" al modelo.\n",
        "\n",
        "* Comente si el modelo con menor dimensionalidad es más sencillo de explicar. Explique brevemente por qué la eliminación de ciertas características puede facilitar la comprensión y la explicación del comportamiento del modelo.\n",
        "\n",
        "Un modelo con menor dimensionalidad es más fácil de interpretar. Al eliminar variables irrelevantes se simplifica la relación entre las características restantes y el objetivo, facilitando su comprensión y destacando aquellas que son realmente relevantes y clave para generar predicciones precisas."
      ]
    },
    {
      "cell_type": "markdown",
      "metadata": {
        "id": "PTG5cH9r3M9g"
      },
      "source": [
        "### 2.3 Calibración Probabilistica [6 puntos]"
      ]
    },
    {
      "cell_type": "markdown",
      "metadata": {
        "id": "CDL0VqjR7yvb"
      },
      "source": [
        "<center>\n",
        "<img src='https://media2.giphy.com/media/l2Je4Ku0Cx292KWv6/200w.gif?cid=6c09b952y0sihtq9tb6sz8j2023x3zxxp3qx1ocgonkpkblj&ep=v1_gifs_search&rid=200w.gif&ct=g' width=400 />"
      ]
    },
    {
      "cell_type": "markdown",
      "metadata": {
        "id": "qmOKxhAw3sic"
      },
      "source": [
        "Para lograr modelos más modulares, se recomienda realizar una calibración del modelo entrenado anteriormente, con el objetivo de obtener salidas que reflejen mayor modularidad.\n",
        "\n",
        "1. Se solicita que utilice un método de calibración que asegure que las probabilidades generadas incrementen de manera monótona. Una métrica ampliamente utilizada para evaluar la precisión de la calibración de un modelo es el Brier Score. Calcule el Brier Score para el modelo tanto antes como después de la calibración. Esto le permitirá realizar una comparación cuantitativa y determinar si la calibración ha mejorado el rendimiento del modelo. Para más información sobre el Brier Score, puede consultar el siguiente enlace: [Scikit-Learn - Brier Score Loss](https://scikit-learn.org/stable/modules/generated/sklearn.metrics.brier_score_loss.html). [3 puntos]\n",
        "\n",
        "2. Tras la calibración, examine y comente los resultados obtenidos. A su análisis añada una comparación visual de las ideales versus las salidas del modelo original (sin calibrar) y del modelo calibrado. [3 puntos]"
      ]
    },
    {
      "cell_type": "markdown",
      "metadata": {
        "id": "QIiYz_qLuD19"
      },
      "source": [
        "**Respuesta**"
      ]
    },
    {
      "cell_type": "code",
      "execution_count": null,
      "metadata": {
        "colab": {
          "base_uri": "https://localhost:8080/"
        },
        "id": "l0bfSuiFuD2I",
        "outputId": "a3e4a923-e9b8-4305-a83f-011505f2cb03"
      },
      "outputs": [],
      "source": [
        "#1 Brier score\n",
        "from sklearn.metrics import brier_score_loss\n",
        "from sklearn.calibration import CalibratedClassifierCV\n",
        "\n",
        "#Antes de calibrar el modelo\n",
        "y_test_antes = xgb_model_reducido.predict(X_test_reducido)\n",
        "\n",
        "brier_score_antes = brier_score_loss(y_test_reducido, y_test_antes)\n",
        "brier_score_antes"
      ]
    },
    {
      "cell_type": "code",
      "execution_count": null,
      "metadata": {
        "colab": {
          "base_uri": "https://localhost:8080/",
          "height": 97
        },
        "id": "qSqCQYxnjuro",
        "outputId": "2effa957-78de-44e4-f9a2-1fe78e992cca"
      },
      "outputs": [],
      "source": [
        "#Calibrar el modelo\n",
        "calibrame = CalibratedClassifierCV()\n",
        "calibrame.fit(X_train_reducido, y_train_reducido)"
      ]
    },
    {
      "cell_type": "code",
      "execution_count": null,
      "metadata": {
        "colab": {
          "base_uri": "https://localhost:8080/"
        },
        "id": "Ty4tZuSPjtMT",
        "outputId": "5b87410a-6136-4974-c742-e3c1cd89408e"
      },
      "outputs": [],
      "source": [
        "#Post calibrar el modelo\n",
        "y_test_post = calibrame.predict(X_test_reducido)\n",
        "\n",
        "brier_score_post = brier_score_loss(y_test_reducido, y_test_post)\n",
        "brier_score_post"
      ]
    },
    {
      "cell_type": "markdown",
      "metadata": {
        "id": "0-BaBFpHlKnD"
      },
      "source": [
        "#### 2.3.2\n",
        "En base a los resultados obtenidos podemos concluir que el *Brier Score Loss* disminuyó, la cuál, al ser una función de pérdida, indica que mejoraron las predicciones con la calibración."
      ]
    }
  ],
  "metadata": {
    "colab": {
      "collapsed_sections": [
        "k-ao0mOU64Ru",
        "Bv1HOfcNEPF4",
        "poc9HSNBFeKO",
        "uy5VMU6ae_g6",
        "rD8pQ5Zfq8dE",
        "K8DSS3u1xMpB",
        "PTG5cH9r3M9g"
      ],
      "provenance": []
    },
    "kernelspec": {
      "display_name": "Python 3",
      "name": "python3"
    },
    "language_info": {
      "name": "python"
    },
    "widgets": {
      "application/vnd.jupyter.widget-state+json": {
        "16be927713b3408ba2a794180df9c27c": {
          "model_module": "@jupyter-widgets/controls",
          "model_module_version": "1.5.0",
          "model_name": "HBoxModel",
          "state": {
            "_dom_classes": [],
            "_model_module": "@jupyter-widgets/controls",
            "_model_module_version": "1.5.0",
            "_model_name": "HBoxModel",
            "_view_count": null,
            "_view_module": "@jupyter-widgets/controls",
            "_view_module_version": "1.5.0",
            "_view_name": "HBoxView",
            "box_style": "",
            "children": [
              "IPY_MODEL_88c2066e9efd470593a4f979e0973892",
              "IPY_MODEL_68a41ff6edac4adf8545ebc1e712015e",
              "IPY_MODEL_881c6c3fa7514778bae6aa74779ac9c3"
            ],
            "layout": "IPY_MODEL_a783c8e041a048d59949c8bc645ac43d"
          }
        },
        "4945bb63a7b343dfbce79c0f9751e7cd": {
          "model_module": "@jupyter-widgets/controls",
          "model_module_version": "1.5.0",
          "model_name": "DescriptionStyleModel",
          "state": {
            "_model_module": "@jupyter-widgets/controls",
            "_model_module_version": "1.5.0",
            "_model_name": "DescriptionStyleModel",
            "_view_count": null,
            "_view_module": "@jupyter-widgets/base",
            "_view_module_version": "1.2.0",
            "_view_name": "StyleView",
            "description_width": ""
          }
        },
        "68a41ff6edac4adf8545ebc1e712015e": {
          "model_module": "@jupyter-widgets/controls",
          "model_module_version": "1.5.0",
          "model_name": "FloatProgressModel",
          "state": {
            "_dom_classes": [],
            "_model_module": "@jupyter-widgets/controls",
            "_model_module_version": "1.5.0",
            "_model_name": "FloatProgressModel",
            "_view_count": null,
            "_view_module": "@jupyter-widgets/controls",
            "_view_module_version": "1.5.0",
            "_view_name": "ProgressView",
            "bar_style": "",
            "description": "",
            "description_tooltip": null,
            "layout": "IPY_MODEL_c4bbb0654fda481197baa36b59adc9c0",
            "max": 29,
            "min": 0,
            "orientation": "horizontal",
            "style": "IPY_MODEL_e95b1d0b237242b0bcee9faeaf627de0",
            "value": 29
          }
        },
        "7e1525b12cee4ae8b68ed6f6908f9b0f": {
          "model_module": "@jupyter-widgets/base",
          "model_module_version": "1.2.0",
          "model_name": "LayoutModel",
          "state": {
            "_model_module": "@jupyter-widgets/base",
            "_model_module_version": "1.2.0",
            "_model_name": "LayoutModel",
            "_view_count": null,
            "_view_module": "@jupyter-widgets/base",
            "_view_module_version": "1.2.0",
            "_view_name": "LayoutView",
            "align_content": null,
            "align_items": null,
            "align_self": null,
            "border": null,
            "bottom": null,
            "display": null,
            "flex": null,
            "flex_flow": null,
            "grid_area": null,
            "grid_auto_columns": null,
            "grid_auto_flow": null,
            "grid_auto_rows": null,
            "grid_column": null,
            "grid_gap": null,
            "grid_row": null,
            "grid_template_areas": null,
            "grid_template_columns": null,
            "grid_template_rows": null,
            "height": null,
            "justify_content": null,
            "justify_items": null,
            "left": null,
            "margin": null,
            "max_height": null,
            "max_width": null,
            "min_height": null,
            "min_width": null,
            "object_fit": null,
            "object_position": null,
            "order": null,
            "overflow": null,
            "overflow_x": null,
            "overflow_y": null,
            "padding": null,
            "right": null,
            "top": null,
            "visibility": null,
            "width": null
          }
        },
        "831205b975bf49409a5823f28fbc2df0": {
          "model_module": "@jupyter-widgets/controls",
          "model_module_version": "1.5.0",
          "model_name": "VBoxModel",
          "state": {
            "_dom_classes": [
              "widget-interact"
            ],
            "_model_module": "@jupyter-widgets/controls",
            "_model_module_version": "1.5.0",
            "_model_name": "VBoxModel",
            "_view_count": null,
            "_view_module": "@jupyter-widgets/controls",
            "_view_module_version": "1.5.0",
            "_view_name": "VBoxView",
            "box_style": "",
            "children": [
              "IPY_MODEL_de58e528800f4c73a60da51eb3564942",
              "IPY_MODEL_e744b7ff69b741df8edff83a101350e3"
            ],
            "layout": "IPY_MODEL_aedcafae7b054efdbc6ec68934b0ebf3"
          }
        },
        "881c6c3fa7514778bae6aa74779ac9c3": {
          "model_module": "@jupyter-widgets/controls",
          "model_module_version": "1.5.0",
          "model_name": "HTMLModel",
          "state": {
            "_dom_classes": [],
            "_model_module": "@jupyter-widgets/controls",
            "_model_module_version": "1.5.0",
            "_model_name": "HTMLModel",
            "_view_count": null,
            "_view_module": "@jupyter-widgets/controls",
            "_view_module_version": "1.5.0",
            "_view_name": "HTMLView",
            "description": "",
            "description_tooltip": null,
            "layout": "IPY_MODEL_d4356f9dcf4b477bbd6526169fcafc43",
            "placeholder": "​",
            "style": "IPY_MODEL_4945bb63a7b343dfbce79c0f9751e7cd",
            "value": " 29/29 [04:19&lt;00:00, 12.53s/it]"
          }
        },
        "88c2066e9efd470593a4f979e0973892": {
          "model_module": "@jupyter-widgets/controls",
          "model_module_version": "1.5.0",
          "model_name": "HTMLModel",
          "state": {
            "_dom_classes": [],
            "_model_module": "@jupyter-widgets/controls",
            "_model_module_version": "1.5.0",
            "_model_name": "HTMLModel",
            "_view_count": null,
            "_view_module": "@jupyter-widgets/controls",
            "_view_module_version": "1.5.0",
            "_view_name": "HTMLView",
            "description": "",
            "description_tooltip": null,
            "layout": "IPY_MODEL_7e1525b12cee4ae8b68ed6f6908f9b0f",
            "placeholder": "​",
            "style": "IPY_MODEL_9cc2149bc1d643c1b26188293048cc33",
            "value": "Processing: 100%"
          }
        },
        "8d7a48c89c9045c2ab6b6d7274d2adce": {
          "model_module": "@jupyter-widgets/base",
          "model_module_version": "1.2.0",
          "model_name": "LayoutModel",
          "state": {
            "_model_module": "@jupyter-widgets/base",
            "_model_module_version": "1.2.0",
            "_model_name": "LayoutModel",
            "_view_count": null,
            "_view_module": "@jupyter-widgets/base",
            "_view_module_version": "1.2.0",
            "_view_name": "LayoutView",
            "align_content": null,
            "align_items": null,
            "align_self": null,
            "border": null,
            "bottom": null,
            "display": null,
            "flex": null,
            "flex_flow": null,
            "grid_area": null,
            "grid_auto_columns": null,
            "grid_auto_flow": null,
            "grid_auto_rows": null,
            "grid_column": null,
            "grid_gap": null,
            "grid_row": null,
            "grid_template_areas": null,
            "grid_template_columns": null,
            "grid_template_rows": null,
            "height": null,
            "justify_content": null,
            "justify_items": null,
            "left": null,
            "margin": null,
            "max_height": null,
            "max_width": null,
            "min_height": null,
            "min_width": null,
            "object_fit": null,
            "object_position": null,
            "order": null,
            "overflow": null,
            "overflow_x": null,
            "overflow_y": null,
            "padding": null,
            "right": null,
            "top": null,
            "visibility": null,
            "width": null
          }
        },
        "9cc2149bc1d643c1b26188293048cc33": {
          "model_module": "@jupyter-widgets/controls",
          "model_module_version": "1.5.0",
          "model_name": "DescriptionStyleModel",
          "state": {
            "_model_module": "@jupyter-widgets/controls",
            "_model_module_version": "1.5.0",
            "_model_name": "DescriptionStyleModel",
            "_view_count": null,
            "_view_module": "@jupyter-widgets/base",
            "_view_module_version": "1.2.0",
            "_view_name": "StyleView",
            "description_width": ""
          }
        },
        "a783c8e041a048d59949c8bc645ac43d": {
          "model_module": "@jupyter-widgets/base",
          "model_module_version": "1.2.0",
          "model_name": "LayoutModel",
          "state": {
            "_model_module": "@jupyter-widgets/base",
            "_model_module_version": "1.2.0",
            "_model_name": "LayoutModel",
            "_view_count": null,
            "_view_module": "@jupyter-widgets/base",
            "_view_module_version": "1.2.0",
            "_view_name": "LayoutView",
            "align_content": null,
            "align_items": null,
            "align_self": null,
            "border": null,
            "bottom": null,
            "display": null,
            "flex": null,
            "flex_flow": null,
            "grid_area": null,
            "grid_auto_columns": null,
            "grid_auto_flow": null,
            "grid_auto_rows": null,
            "grid_column": null,
            "grid_gap": null,
            "grid_row": null,
            "grid_template_areas": null,
            "grid_template_columns": null,
            "grid_template_rows": null,
            "height": null,
            "justify_content": null,
            "justify_items": null,
            "left": null,
            "margin": null,
            "max_height": null,
            "max_width": null,
            "min_height": null,
            "min_width": null,
            "object_fit": null,
            "object_position": null,
            "order": null,
            "overflow": null,
            "overflow_x": null,
            "overflow_y": null,
            "padding": null,
            "right": null,
            "top": null,
            "visibility": "hidden",
            "width": null
          }
        },
        "aedcafae7b054efdbc6ec68934b0ebf3": {
          "model_module": "@jupyter-widgets/base",
          "model_module_version": "1.2.0",
          "model_name": "LayoutModel",
          "state": {
            "_model_module": "@jupyter-widgets/base",
            "_model_module_version": "1.2.0",
            "_model_name": "LayoutModel",
            "_view_count": null,
            "_view_module": "@jupyter-widgets/base",
            "_view_module_version": "1.2.0",
            "_view_name": "LayoutView",
            "align_content": null,
            "align_items": null,
            "align_self": null,
            "border": null,
            "bottom": null,
            "display": null,
            "flex": null,
            "flex_flow": null,
            "grid_area": null,
            "grid_auto_columns": null,
            "grid_auto_flow": null,
            "grid_auto_rows": null,
            "grid_column": null,
            "grid_gap": null,
            "grid_row": null,
            "grid_template_areas": null,
            "grid_template_columns": null,
            "grid_template_rows": null,
            "height": null,
            "justify_content": null,
            "justify_items": null,
            "left": null,
            "margin": null,
            "max_height": null,
            "max_width": null,
            "min_height": null,
            "min_width": null,
            "object_fit": null,
            "object_position": null,
            "order": null,
            "overflow": null,
            "overflow_x": null,
            "overflow_y": null,
            "padding": null,
            "right": null,
            "top": null,
            "visibility": null,
            "width": null
          }
        },
        "ba94edcc6f5241689bd414d50e2cbebb": {
          "model_module": "@jupyter-widgets/base",
          "model_module_version": "1.2.0",
          "model_name": "LayoutModel",
          "state": {
            "_model_module": "@jupyter-widgets/base",
            "_model_module_version": "1.2.0",
            "_model_name": "LayoutModel",
            "_view_count": null,
            "_view_module": "@jupyter-widgets/base",
            "_view_module_version": "1.2.0",
            "_view_name": "LayoutView",
            "align_content": null,
            "align_items": null,
            "align_self": null,
            "border": null,
            "bottom": null,
            "display": null,
            "flex": null,
            "flex_flow": null,
            "grid_area": null,
            "grid_auto_columns": null,
            "grid_auto_flow": null,
            "grid_auto_rows": null,
            "grid_column": null,
            "grid_gap": null,
            "grid_row": null,
            "grid_template_areas": null,
            "grid_template_columns": null,
            "grid_template_rows": null,
            "height": null,
            "justify_content": null,
            "justify_items": null,
            "left": null,
            "margin": null,
            "max_height": null,
            "max_width": null,
            "min_height": null,
            "min_width": null,
            "object_fit": null,
            "object_position": null,
            "order": null,
            "overflow": null,
            "overflow_x": null,
            "overflow_y": null,
            "padding": null,
            "right": null,
            "top": null,
            "visibility": null,
            "width": null
          }
        },
        "c4bbb0654fda481197baa36b59adc9c0": {
          "model_module": "@jupyter-widgets/base",
          "model_module_version": "1.2.0",
          "model_name": "LayoutModel",
          "state": {
            "_model_module": "@jupyter-widgets/base",
            "_model_module_version": "1.2.0",
            "_model_name": "LayoutModel",
            "_view_count": null,
            "_view_module": "@jupyter-widgets/base",
            "_view_module_version": "1.2.0",
            "_view_name": "LayoutView",
            "align_content": null,
            "align_items": null,
            "align_self": null,
            "border": null,
            "bottom": null,
            "display": null,
            "flex": null,
            "flex_flow": null,
            "grid_area": null,
            "grid_auto_columns": null,
            "grid_auto_flow": null,
            "grid_auto_rows": null,
            "grid_column": null,
            "grid_gap": null,
            "grid_row": null,
            "grid_template_areas": null,
            "grid_template_columns": null,
            "grid_template_rows": null,
            "height": null,
            "justify_content": null,
            "justify_items": null,
            "left": null,
            "margin": null,
            "max_height": null,
            "max_width": null,
            "min_height": null,
            "min_width": null,
            "object_fit": null,
            "object_position": null,
            "order": null,
            "overflow": null,
            "overflow_x": null,
            "overflow_y": null,
            "padding": null,
            "right": null,
            "top": null,
            "visibility": null,
            "width": null
          }
        },
        "d33581d59e2e45e1aea1944dee0934e2": {
          "model_module": "@jupyter-widgets/controls",
          "model_module_version": "1.5.0",
          "model_name": "ToggleButtonsStyleModel",
          "state": {
            "_model_module": "@jupyter-widgets/controls",
            "_model_module_version": "1.5.0",
            "_model_name": "ToggleButtonsStyleModel",
            "_view_count": null,
            "_view_module": "@jupyter-widgets/base",
            "_view_module_version": "1.2.0",
            "_view_name": "StyleView",
            "button_width": "",
            "description_width": "",
            "font_weight": ""
          }
        },
        "d4356f9dcf4b477bbd6526169fcafc43": {
          "model_module": "@jupyter-widgets/base",
          "model_module_version": "1.2.0",
          "model_name": "LayoutModel",
          "state": {
            "_model_module": "@jupyter-widgets/base",
            "_model_module_version": "1.2.0",
            "_model_name": "LayoutModel",
            "_view_count": null,
            "_view_module": "@jupyter-widgets/base",
            "_view_module_version": "1.2.0",
            "_view_name": "LayoutView",
            "align_content": null,
            "align_items": null,
            "align_self": null,
            "border": null,
            "bottom": null,
            "display": null,
            "flex": null,
            "flex_flow": null,
            "grid_area": null,
            "grid_auto_columns": null,
            "grid_auto_flow": null,
            "grid_auto_rows": null,
            "grid_column": null,
            "grid_gap": null,
            "grid_row": null,
            "grid_template_areas": null,
            "grid_template_columns": null,
            "grid_template_rows": null,
            "height": null,
            "justify_content": null,
            "justify_items": null,
            "left": null,
            "margin": null,
            "max_height": null,
            "max_width": null,
            "min_height": null,
            "min_width": null,
            "object_fit": null,
            "object_position": null,
            "order": null,
            "overflow": null,
            "overflow_x": null,
            "overflow_y": null,
            "padding": null,
            "right": null,
            "top": null,
            "visibility": null,
            "width": null
          }
        },
        "de58e528800f4c73a60da51eb3564942": {
          "model_module": "@jupyter-widgets/controls",
          "model_module_version": "1.5.0",
          "model_name": "ToggleButtonsModel",
          "state": {
            "_dom_classes": [],
            "_model_module": "@jupyter-widgets/controls",
            "_model_module_version": "1.5.0",
            "_model_name": "ToggleButtonsModel",
            "_options_labels": [
              "Pipeline Plot",
              "Hyperparameters",
              "AUC",
              "Confusion Matrix",
              "Threshold",
              "Precision Recall",
              "Prediction Error",
              "Class Report",
              "Feature Selection",
              "Learning Curve",
              "Manifold Learning",
              "Calibration Curve",
              "Validation Curve",
              "Dimensions",
              "Feature Importance",
              "Feature Importance (All)",
              "Decision Boundary",
              "Lift Chart",
              "Gain Chart",
              "Decision Tree",
              "KS Statistic Plot"
            ],
            "_view_count": null,
            "_view_module": "@jupyter-widgets/controls",
            "_view_module_version": "1.5.0",
            "_view_name": "ToggleButtonsView",
            "button_style": "",
            "description": "Plot Type:",
            "description_tooltip": null,
            "disabled": false,
            "icons": [
              ""
            ],
            "index": 0,
            "layout": "IPY_MODEL_ba94edcc6f5241689bd414d50e2cbebb",
            "style": "IPY_MODEL_d33581d59e2e45e1aea1944dee0934e2",
            "tooltips": []
          }
        },
        "e744b7ff69b741df8edff83a101350e3": {
          "model_module": "@jupyter-widgets/output",
          "model_module_version": "1.0.0",
          "model_name": "OutputModel",
          "state": {
            "_dom_classes": [],
            "_model_module": "@jupyter-widgets/output",
            "_model_module_version": "1.0.0",
            "_model_name": "OutputModel",
            "_view_count": null,
            "_view_module": "@jupyter-widgets/output",
            "_view_module_version": "1.0.0",
            "_view_name": "OutputView",
            "layout": "IPY_MODEL_8d7a48c89c9045c2ab6b6d7274d2adce",
            "msg_id": "",
            "outputs": [
              {
                "data": {
                  "image/png": "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\n",
                  "text/plain": "<Figure size 2700x600 with 1 Axes>"
                },
                "metadata": {},
                "output_type": "display_data"
              }
            ]
          }
        },
        "e95b1d0b237242b0bcee9faeaf627de0": {
          "model_module": "@jupyter-widgets/controls",
          "model_module_version": "1.5.0",
          "model_name": "ProgressStyleModel",
          "state": {
            "_model_module": "@jupyter-widgets/controls",
            "_model_module_version": "1.5.0",
            "_model_name": "ProgressStyleModel",
            "_view_count": null,
            "_view_module": "@jupyter-widgets/base",
            "_view_module_version": "1.2.0",
            "_view_name": "StyleView",
            "bar_color": null,
            "description_width": ""
          }
        }
      }
    }
  },
  "nbformat": 4,
  "nbformat_minor": 0
}
