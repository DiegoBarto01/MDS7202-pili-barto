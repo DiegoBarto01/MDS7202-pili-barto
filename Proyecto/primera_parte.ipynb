{
 "cells": [
  {
   "cell_type": "markdown",
   "metadata": {},
   "source": [
    "# Proyecto MDS - Etapa 1"
   ]
  },
  {
   "cell_type": "markdown",
   "metadata": {},
   "source": [
    "Integrante 1: Diego Bartolucci\n",
    "\n",
    "Integrante 2: Pilar Nilo\n",
    "\n",
    "link repositorio:"
   ]
  },
  {
   "cell_type": "markdown",
   "metadata": {},
   "source": [
    "## Importación de librerias"
   ]
  },
  {
   "cell_type": "code",
   "execution_count": null,
   "metadata": {},
   "outputs": [],
   "source": [
    "#importación de librerias\n",
    "import numpy as np\n",
    "import pandas as pd\n",
    "from sklearn.model_selection import train_test_split"
   ]
  },
  {
   "cell_type": "markdown",
   "metadata": {},
   "source": [
    "## Carga de datos"
   ]
  },
  {
   "cell_type": "code",
   "execution_count": null,
   "metadata": {},
   "outputs": [],
   "source": [
    "#leemos los archivos\n",
    "x_t0=pd.read_csv('X_t0.parquet')\n",
    "x_t1=pd.read_csv('X_t1.parquet')\n",
    "y_t0=pd.read_csv('y_t0.parquet')"
   ]
  },
  {
   "cell_type": "markdown",
   "metadata": {},
   "source": [
    "## Analisis exploratorio de datos"
   ]
  },
  {
   "cell_type": "code",
   "execution_count": null,
   "metadata": {},
   "outputs": [],
   "source": [
    "def exploratory_data_analysis(dataframe):\n",
    "  #1. dimension df\n",
    "  print(f\"1. La dimension del dataframe es: {dataframe.shape} \\n\")\n",
    "  #2. nombres de las columnas del df\n",
    "  print(f\"2. Las columnas que conforman el dataframe son: \\n {dataframe.columns} \\n\")\n",
    "  #3. mostrar los primeros 5 elementos, 5 ultimos elementos y 5 elementos aleatoreos\n",
    "  print(\"3.a Los 5 primeros elementos del dataframe son:\")\n",
    "  display(dataframe.head(5))\n",
    "  print(\"3.b Los 5 últimos elementos del dataframe son:\")\n",
    "  display(dataframe.tail(5))\n",
    "  print(\"3.c 5 elementos al azar del dataframe son:\")\n",
    "  display(dataframe.sample(5, random_state=10))\n",
    "  #4. descripcion rapida de las variables numericas del dataframe\n",
    "  print(f\"4. Descripción de las variables numéricas del dataframe:\")\n",
    "  display(dataframe.describe())\n",
    "  #5. mensaje con la cantidad de valores nulos\n",
    "  print(f\"5. La cantidad de valores nulos en el dataframe son: \\n {dataframe.isna().sum()} \\n\")\n",
    "  #6. mensaje que detalle la cantidad de valores unicos\n",
    "  print(f\"6. La cantidad de valores unicos en el dataframe son: \\n {dataframe.nunique()} \\n\")"
   ]
  },
  {
   "cell_type": "code",
   "execution_count": null,
   "metadata": {},
   "outputs": [],
   "source": [
    "exploratory_data_analysis(x_t0)"
   ]
  },
  {
   "cell_type": "code",
   "execution_count": null,
   "metadata": {},
   "outputs": [],
   "source": [
    "#graficos de cada variable\n",
    "import plotly.express as px\n",
    "#1.seleccion de variables numricas del dataset\n",
    "df_X_t0= x_t0.select_dtypes(include='number')\n",
    "#suponemos que el ID no es una columna a contabilizar\n",
    "# df_vuelos_num= X_t0.drop('id', axis=1)\n",
    "\n",
    "#2.visualización de la distribución de cada variable\n",
    "for col in df_X_t0.columns:\n",
    "    fig = px.histogram(df_X_t0, x=col, title=f'Visualización de la distribución de variable {col}') #ver si es solo histo o podria ser otro\n",
    "    fig.show()"
   ]
  },
  {
   "cell_type": "markdown",
   "metadata": {},
   "source": [
    "## Pre Procesamiento de datos"
   ]
  },
  {
   "cell_type": "code",
   "execution_count": null,
   "metadata": {},
   "outputs": [],
   "source": []
  },
  {
   "cell_type": "markdown",
   "metadata": {},
   "source": [
    "## Division del conjunto de datos"
   ]
  },
  {
   "cell_type": "code",
   "execution_count": null,
   "metadata": {},
   "outputs": [],
   "source": [
    "#separar el conjunto de datos\n",
    "x = x_t0\n",
    "y = y_t0\n",
    "\n",
    "x_train, x_test, y_train, y_test = train_test_split(x, y, test_size=0.3, random_state=60)"
   ]
  },
  {
   "cell_type": "markdown",
   "metadata": {},
   "source": [
    "## Creacion de un modelo baseline"
   ]
  },
  {
   "cell_type": "markdown",
   "metadata": {},
   "source": [
    "## Desarrollo de 3 modelos de ML diferentes al baseline"
   ]
  },
  {
   "cell_type": "markdown",
   "metadata": {},
   "source": [
    "## Interpretabilidad del modelo con mejores resultados"
   ]
  }
 ],
 "metadata": {
  "language_info": {
   "name": "python"
  }
 },
 "nbformat": 4,
 "nbformat_minor": 2
}
