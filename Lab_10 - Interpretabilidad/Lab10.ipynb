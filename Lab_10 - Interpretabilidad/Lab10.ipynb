{
  "cells": [
    {
      "cell_type": "markdown",
      "metadata": {
        "cell_id": "6db569e7c5d04f9e9b48cb129df732fc",
        "deepnote_cell_type": "markdown",
        "id": "XUZ1dFPHzAHl"
      },
      "source": [
        "<h1><center>Laboratorio 10: Interpretabilidad 🤖</center></h1>\n",
        "\n",
        "<center><strong>MDS7202: Laboratorio de Programación Científica para Ciencia de Datos - Primavera 2024</strong></center>"
      ]
    },
    {
      "cell_type": "markdown",
      "metadata": {
        "cell_id": "737a4540885f41acb34b9863a968b907",
        "deepnote_cell_type": "markdown",
        "id": "UD8X1uhGzAHq"
      },
      "source": [
        "### **Cuerpo Docente:**\n",
        "\n",
        "- Profesores: Ignacio Meza, Sebastián Tinoco\n",
        "- Auxiliar: Eduardo Moya\n",
        "- Ayudantes: Nicolás Ojeda, Melanie Peña, Valentina Rojas"
      ]
    },
    {
      "cell_type": "markdown",
      "metadata": {
        "cell_id": "e4a6f26138654eb49ee963fb4c7ecf46",
        "deepnote_cell_type": "markdown",
        "id": "tXflExjqzAHr"
      },
      "source": [
        "### Equipo: SUPER IMPORTANTE - notebooks sin nombre no serán revisados\n",
        "\n",
        "- Nombre de alumno 1: Diego Bartolucci\n",
        "- Nombre de alumno 2: Pilar Nilo\n"
      ]
    },
    {
      "cell_type": "markdown",
      "metadata": {
        "cell_id": "7dd4aaebd4f44063aedbb47ea36349a5",
        "deepnote_cell_type": "markdown",
        "id": "AD-V0bbZzAHr",
        "owner_user_id": "badcc427-fd3d-4615-9296-faa43ec69cfb"
      },
      "source": [
        "### **Link de repositorio de GitHub:** [Repositorio](https://github.com/DiegoBarto01/MDS7202-pili-barto.git)"
      ]
    },
    {
      "cell_type": "markdown",
      "metadata": {
        "cell_id": "abe08e51696a471e8cc8ac1fa4216f0b",
        "deepnote_cell_type": "markdown",
        "id": "EcnsiQMkzAHr"
      },
      "source": [
        "### Indice\n",
        "\n",
        "1. [Temas a tratar](#Temas-a-tratar:)\n",
        "3. [Descripcción del laboratorio](#Descripción-del-laboratorio.)\n",
        "4. [Desarrollo](#Desarrollo)"
      ]
    },
    {
      "cell_type": "markdown",
      "metadata": {
        "cell_id": "0174e9377ebb43eaa0d12718db4c81ec",
        "deepnote_cell_type": "markdown",
        "id": "6uBLPj1PzAHs"
      },
      "source": [
        "## Temas a tratar\n",
        "\n",
        "- Clasificación usando `XGBoost`.\n",
        "- Métodos Agnósticos Globales de Interpretabilidad (`Partial Dependence Plot`, `Permutation Feature Importance`)\n",
        "- Métodos Agnósticos Locales de Interpretabilidad (`Scoped Rules`, `SHAP`)\n",
        "\n",
        "## Reglas:\n",
        "\n",
        "- **Grupos de 2 personas**\n",
        "- Asistencia **obligatoria** a instrucciones del lab (viernes 16.15). Luego, pueden quedarse trabajando en las salas o irse.\n",
        "- **No se revisarán entregas de personas ausentes**.\n",
        "- Cualquier duda fuera del horario de clases al foro. Mensajes al equipo docente serán respondidos por este medio.\n",
        "- Prohibidas las copias.\n",
        "- Pueden usar cualquer matrial del curso que estimen conveniente.\n",
        "\n",
        "### Objetivos principales del laboratorio\n",
        "\n",
        "- Generar un pipeline de clasificación con `XGBoost`.\n",
        "- Implementar modelos de interpretabilidad para explicar el funcionamiento del modelo de clasificación.\n",
        "\n",
        "El laboratorio deberá ser desarrollado sin el uso indiscriminado de iteradores nativos de python (aka \"for\", \"while\"). La idea es que aprendan a exprimir al máximo las funciones optimizadas que nos entrega `pandas`, las cuales vale mencionar, son bastante más eficientes que los iteradores nativos sobre DataFrames."
      ]
    },
    {
      "cell_type": "markdown",
      "metadata": {
        "cell_id": "e2c4f9b4097846b680f8d1c500aa49df",
        "deepnote_cell_type": "markdown",
        "id": "xpOTbQcxbSiy"
      },
      "source": [
        "# 1. Problemas Clínicos del Dr. Simi"
      ]
    },
    {
      "cell_type": "markdown",
      "metadata": {
        "cell_id": "2911f2d6934f43fe8950320d84f3b031",
        "deepnote_cell_type": "markdown",
        "id": "3Q93vbNS25bM"
      },
      "source": [
        "<p align=\"center\">\n",
        "  <img src=\"https://gantz.cl/wp-content/uploads/2020/01/79024136_2718114448239059_7240913062570491904_o.jpg\" width=\"350\">\n",
        "</p>"
      ]
    },
    {
      "cell_type": "markdown",
      "metadata": {
        "cell_id": "2bb2213a347e4d55bfc8fea55068a88f",
        "deepnote_cell_type": "markdown",
        "id": "Bi7JI3YNQy7L"
      },
      "source": [
        "El reconocido **Dr. Simi**, famoso vendedor de medicamentos en latinoamerica, debido a la creciente prevalencia de enfermedades crónicas, como la diabetes, decidió abrir una clínica especializada en el tratamiento de esta enfermedad en nuestro país.\n",
        "\n",
        "La clínica del Doctor Simi se convirtió en un lugar donde los pacientes con diabetes podrían recibir atención médica integral. El personal médico estaba compuesto por especialistas en endocrinología, nutrición y enfermería, todos capacitados en el manejo de la diabetes.\n",
        "\n",
        "Sin embargo él se ha dado cuenta que los tiempos han cambiado y gracias a las tecnologías es posible generar mejores predicciones en la diabetes conociendo el historial médico de las personas. Por esto, el doctor se ha colocado una meta de incluir modelos de machine learning dentro de sus clínicas, para ello le ha solicitado crear un modelo capaz de predecir/clasificar diabetes pero le rogó que el desarrollo del modelo tuviera un especial enfoque en la interpretabilidad de lo que hace su modelo.\n",
        "\n",
        "Para que usted pueda entrenar el modelo, Dr. Simi le ha entregado un dataset de todos los clientes que fueron detectados con diabetes a lo largo de la historia de la clinica. Con ello, adjunta el historial médico de las personas en forma de datos tabulares para que usted pueda realizar fácilmente la clasificación.\n"
      ]
    },
    {
      "cell_type": "code",
      "execution_count": null,
      "metadata": {
        "colab": {
          "base_uri": "https://localhost:8080/"
        },
        "id": "R2DFw51mr6Fv",
        "outputId": "d3ab3579-100b-4b3c-acbd-e4df00d2435f"
      },
      "outputs": [],
      "source": [
        "# Si usted está utilizando Colabolatory le puede ser útil este código para cargar los archivos.\n",
        "try:\n",
        "    from google.colab import drive\n",
        "    drive.mount(\"/content/drive\")\n",
        "    path = '/content/drive/MyDrive/Lab_10'\n",
        "except:\n",
        "    print('Ignorando conexión drive-colab')"
      ]
    },
    {
      "cell_type": "code",
      "execution_count": null,
      "metadata": {
        "cell_id": "3252f09552814a80ac2d5e3cc67a1447",
        "colab": {
          "base_uri": "https://localhost:8080/",
          "height": 226
        },
        "deepnote_cell_type": "code",
        "deepnote_to_be_reexecuted": false,
        "execution_millis": 294,
        "execution_start": 1686884002582,
        "id": "bED3w3tDbSCf",
        "outputId": "a353abed-af04-4ead-db92-d66b594d02fa",
        "source_hash": "fa5e6129"
      },
      "outputs": [],
      "source": [
        "import numpy as np\n",
        "import pandas as pd\n",
        "\n",
        "df = pd.read_csv(path + '/diabetes_data.csv')\n",
        "df.head(5)"
      ]
    },
    {
      "cell_type": "markdown",
      "metadata": {
        "cell_id": "2fa50e56411a46858d61f2a42b715ee8",
        "deepnote_cell_type": "markdown",
        "id": "ghYBow5eQy7N"
      },
      "source": [
        "## 2. Clasificación de pacientes con diabetes (5 puntos)\n",
        "\n",
        "<p align=\"center\">\n",
        "  <img src=\"https://media.tenor.com/QH--g3ZaSbsAAAAC/dr-simi-abrazo.gif\" width=\"400\">\n",
        "</p>"
      ]
    },
    {
      "cell_type": "markdown",
      "metadata": {
        "cell_id": "d9f2091b610941f989e7720573424d8a",
        "deepnote_cell_type": "markdown",
        "id": "jnmZfFpxTTYX"
      },
      "source": [
        "Tareas:\n",
        "1. En primer lugar, el reconocido doctor le pide entrenar un modelo de `XGBoost` utilizando como target la columna `Diabetes` del dataset `diabetes_data.csv`. Para el entrenamiento, realice los siguientes pasos:\n",
        "  * Realice una breve exploración de los datos y determine si aplicará transformaciones (MinMaxScaler, StandardScaler, etc.) en alguna/s de las variables. (1 punto)\n",
        "  * Cree un conjunto de entrenamiento y uno de prueba, con una proporción de 1/3 en el conjunto de prueba. (0.5 puntos)\n",
        "  * Cree un ColumnTransformer de preprocesamiento donde aplique las transformaciones determinadas anteriormente. Fije el parámetro `verbose_feature_names_out=False` y fije la salida del ColumnTransformer en formato pandas mediante el método `.set_output(transform='pandas')`. (1 punto)\n",
        "  *  Cree un pipeline donde integre el preprocesamiento y el modelo `XGBoost` y entrene el modelo. Luego utilice `classification_report(..)` para reportar el desempeño del modelo. (1 punto)\n",
        "\n",
        "Comente sus decisiones y los resultados obtenidos con el modelo.\n",
        "\n",
        "2. Luego, le pide responder las siguientes preguntas:\n",
        "  *  ¿Es acaso un buen predictor de diabetes? (0.5 puntos)\n",
        "  * ¿Qué buscan explicar las métricas utilizadas? (0.5 puntos)\n",
        "  * ¿Las métricas utilizadas para medir la predictibilidad le permiten asegurar que su modelo haga una buena elección de las features?(0.5 puntos)"
      ]
    },
    {
      "cell_type": "code",
      "execution_count": null,
      "metadata": {
        "cell_id": "85306f784b434ca1a6db2d4751525cf0",
        "colab": {
          "base_uri": "https://localhost:8080/"
        },
        "deepnote_cell_type": "code",
        "deepnote_to_be_reexecuted": false,
        "execution_millis": 11299,
        "execution_start": 1686884005212,
        "id": "eJXc0TpLQy7O",
        "outputId": "6c621165-9780-40b4-c838-2e1818d1bf87",
        "source_hash": "4d27a39e"
      },
      "outputs": [],
      "source": [
        "!pip install xgboost"
      ]
    },
    {
      "cell_type": "code",
      "execution_count": null,
      "metadata": {
        "id": "GvvE_aRp-kdR"
      },
      "outputs": [],
      "source": [
        "import plotly.express as px\n",
        "from sklearn.preprocessing import MinMaxScaler, StandardScaler\n",
        "from sklearn.compose import ColumnTransformer\n",
        "from sklearn.pipeline import Pipeline\n",
        "from sklearn.model_selection import train_test_split\n",
        "from sklearn.metrics import classification_report\n",
        "from xgboost import XGBClassifier"
      ]
    },
    {
      "cell_type": "code",
      "execution_count": null,
      "metadata": {
        "id": "rLZGH1dL7QmN"
      },
      "outputs": [],
      "source": [
        "def exploratory_data_analysis(dataframe):\n",
        "  #1. dimension df\n",
        "  print(f\"1. La dimension del dataframe es: {dataframe.shape} \\n\")\n",
        "  #2. nombres de las columnas del df\n",
        "  print(f\"2. Las columnas que conforman el dataframe son: \\n {dataframe.columns} \\n\")\n",
        "  #3. mostrar los primeros 5 elementos, 5 ultimos elementos y 5 elementos aleatoreos\n",
        "  print(\"3.a Los 5 primeros elementos del dataframe son:\")\n",
        "  display(dataframe.head(5))\n",
        "  print(\"3.b Los 5 últimos elementos del dataframe son:\")\n",
        "  display(dataframe.tail(5))\n",
        "  print(\"3.c 5 elementos al azar del dataframe son:\")\n",
        "  display(dataframe.sample(5, random_state=10))\n",
        "  #4. descripcion rapida de las variables numericas del dataframe\n",
        "  print(f\"4. Descripción de las variables numéricas del dataframe:\")\n",
        "  display(dataframe.describe())\n",
        "  #5. mensaje con la cantidad de valores nulos\n",
        "  print(f\"5. La cantidad de valores nulos en el dataframe son: \\n {dataframe.isna().sum()} \\n\")\n",
        "  #6. mensaje que detalle la cantidad de valores unicos\n",
        "  print(f\"6. La cantidad de valores unicos en el dataframe son: \\n {dataframe.nunique()} \\n\")\n"
      ]
    },
    {
      "cell_type": "code",
      "execution_count": null,
      "metadata": {
        "colab": {
          "base_uri": "https://localhost:8080/",
          "height": 1000
        },
        "collapsed": true,
        "id": "g-mvpKZm7gka",
        "outputId": "4f96dd1d-b536-4c7a-aba8-29102e6ef92f"
      },
      "outputs": [],
      "source": [
        "exploratory_data_analysis(df)"
      ]
    },
    {
      "cell_type": "code",
      "execution_count": null,
      "metadata": {
        "colab": {
          "base_uri": "https://localhost:8080/"
        },
        "id": "mW635fiPPn-E",
        "outputId": "225b1ce8-029b-4bbf-ed08-051eb30f7eb7"
      },
      "outputs": [],
      "source": [
        "#edades unicas del df\n",
        "df['Age'].unique()"
      ]
    },
    {
      "cell_type": "code",
      "execution_count": null,
      "metadata": {
        "colab": {
          "base_uri": "https://localhost:8080/",
          "height": 1000
        },
        "collapsed": true,
        "id": "A62wzGM8tMUm",
        "outputId": "e86656f1-b238-4ff9-e626-800bf79ec844"
      },
      "outputs": [],
      "source": [
        "#1. entrenar un modelo de XGBoost utilizando como target la columna Diabetes del dataset diabetes_data.csv\n",
        "#a. realizar exploracion de datos y determine si aplicara transformaicones de datos en alguna de las variables\n",
        "for col in df.columns:\n",
        "    fig = px.histogram(df, x=col, title=f'Visualización de la distribución de variable {col}') #ver si es solo histo o podria ser otro\n",
        "    fig.show()\n"
      ]
    },
    {
      "cell_type": "markdown",
      "metadata": {
        "id": "XOZrv-zpH5uR"
      },
      "source": [
        "*1. transformación de columnas*\n",
        "\n",
        "Se aplicará MinMaxScaler a las columnas MentHlth, PhysHlth y Age ya que no siguen una distribución normal.\n",
        "\n",
        "Por otro lado, se aplicará StandardScaler en la columna BMI ya que sigue una distribución normal.\n",
        "\n"
      ]
    },
    {
      "cell_type": "code",
      "execution_count": null,
      "metadata": {
        "id": "GZCn5sD3MFdf"
      },
      "outputs": [],
      "source": [
        "from sklearn.preprocessing import OneHotEncoder"
      ]
    },
    {
      "cell_type": "code",
      "execution_count": null,
      "metadata": {
        "id": "aJ65po37-fAF"
      },
      "outputs": [],
      "source": [
        "var_minmax=['MentHlth','PhysHlth','Age']\n",
        "var_standarscaler=['BMI']\n",
        "var_onehot=['GenHlth']\n",
        "passthrough=['Sex', 'HighChol', 'CholCheck', 'Smoker',\n",
        "       'HeartDiseaseorAttack', 'PhysActivity', 'Fruits', 'Veggies',\n",
        "       'HvyAlcoholConsump', 'DiffWalk', 'Stroke', 'HighBP']\n",
        "#transformo los dato\n",
        "\n",
        "X = df.drop(columns=['Diabetes'])\n",
        "y = df['Diabetes']\n",
        "#b.crear un conjunto de entrenamiento y uno de prueba, con una proporción de 1/3 en el conjunto de prueba\n",
        "\n",
        "X_train, X_test, y_train, y_test = train_test_split(X, y, test_size=0.33, random_state=444)\n",
        "#c.Cree un ColumnTransformer de preprocesamiento donde aplique las transformaciones determinadas anteriormente. Fije el parámetro verbose_feature_names_out=False\n",
        "#y fije la salida del ColumnTransformer en formato pandas mediante el método .set_output(transform='pandas')\n",
        "\n",
        "preprocessor = ColumnTransformer(\n",
        "                  [('Min Max Scaler', MinMaxScaler(), var_minmax),\n",
        "                  ('standard Scaler', StandardScaler(), var_standarscaler),\n",
        "                  ('one hot encoder',OneHotEncoder(sparse_output=False),var_onehot),\n",
        "                  ('Passthrough', 'passthrough', passthrough)],\n",
        "                  verbose_feature_names_out=False).set_output(transform='pandas')\n",
        "#d.Cree un pipeline donde integre el preprocesamiento y el modelo XGBoost y entrene el modelo. Luego utilice classification_report(..)\n",
        "pipeline = Pipeline([\n",
        "    ('preprocessor', preprocessor),\n",
        "    ('classifier', XGBClassifier())\n",
        "])\n",
        "\n",
        "pipeline.fit(X_train, y_train)\n",
        "y_pred = pipeline.predict(X_test)\n"
      ]
    },
    {
      "cell_type": "code",
      "execution_count": null,
      "metadata": {
        "colab": {
          "base_uri": "https://localhost:8080/"
        },
        "id": "RYXIsgss98OL",
        "outputId": "82f6ad31-ab10-4fac-cdb5-d54450ed5c64"
      },
      "outputs": [],
      "source": [
        "#d.Cree un pipeline donde integre el preprocesamiento y el modelo XGBoost y entrene el modelo. Luego utilice classification_report(..)\n",
        "print(classification_report(y_test, y_pred))"
      ]
    },
    {
      "cell_type": "markdown",
      "metadata": {
        "id": "cuCvioEw-okL"
      },
      "source": [
        "*2.preguntas*\n",
        "\n",
        "\n",
        "*   ¿Es acaso un buen predictor de diabetes?\n",
        "\n",
        "El modelo anterior no es un buen predictor de diabetes, si bien tiene un alto accuracy de 0.73, este resulta bajo para el contexto en el que se está evaluando ya que en asuntos de salud se requieren modelo con un accuracy por sobre el 0.9. Lo anterior dado que se trabaja con personas y las predicciones deben ser fiables y con un bajo porcentaje de falsos positivos/falsos negativos, métrica que tambien se encuentra baja observando el F1-Score.\n",
        "\n",
        "\n",
        "Otro punto destacable es que el dataframe solo incluye personas de 1 a 13 años, por ende hay dos opciones: 1.se quiere ver el indice de diabetes infantil entre este rango de edades o 2.se quiere estudiar la diabetes para cualquier rango etario, pero está sesgado a estas edades.\n",
        "\n",
        "*   ¿Qué buscan explicar las métricas utilizadas?\n",
        "\n",
        "Las métricas utilizadas buscan explicar que tan bueno es el modelo clasificando correctamente a la gente que tiene diabetes y a la que no, tambien los falsos negativos y positivos.\n",
        "\n",
        "*   ¿Las métricas utilizadas para medir la predictibilidad le permiten asegurar que su modelo haga una buena elección de las features?\n",
        "\n",
        "No dado que el modelo es sesgado, además no hay manera de deducir que caracteristicas son mejores que otras solo con estas métricas.\n"
      ]
    },
    {
      "cell_type": "markdown",
      "metadata": {
        "cell_id": "58111a309a0c4aafb323c62c03b9b1d0",
        "deepnote_cell_type": "markdown",
        "id": "FzYGpPhmQy7P"
      },
      "source": [
        "## 3. Importancia de las features con XGBoost (5 puntos)\n",
        "\n",
        "<p align=\"center\">\n",
        "  <img src=\"https://media.tenor.com/5JAj5_IiagEAAAAd/dr-simi-dr-simi-dance.gif\" width=\"400\">\n",
        "</p>"
      ]
    },
    {
      "cell_type": "markdown",
      "metadata": {
        "cell_id": "5e0707b14bbd4ed7b4646cba8e7e53cc",
        "deepnote_cell_type": "markdown",
        "id": "jUT2mC5qQy7Q"
      },
      "source": [
        "Tareas:\n",
        "1. Para añadir el toque de interpretabilidad que Dr. Simi le pide, se le pide calcular la **importancia de las features** del modelo entrenado utilizando todos los métodos (*weight*, *cover*, *gain*) que posee xgboost usando `plot_importance`. `Hint:` Puede acceder a un paso de un pipeline por su nombre mediante el método `.named_steps[...]` (3 puntos)\n",
        "2. ¿Los resultados obtenidos con los diferentes métodos son compatibles?, comente sus resultados y a que se debe la igualdad o desigualdad que ve en los resultados. (1 punto)\n",
        "3. Finalmente, ¿las importancias obtenidas son suficientes para obtener la interpretabilidad de un modelo que utiliza árboles? ¿Qué debilidad presenta este método? (1 punto)"
      ]
    },
    {
      "cell_type": "code",
      "execution_count": null,
      "metadata": {
        "id": "j9N2arHxA-JC"
      },
      "outputs": [],
      "source": [
        "from xgboost import plot_importance"
      ]
    },
    {
      "cell_type": "code",
      "execution_count": null,
      "metadata": {
        "cell_id": "32be9645ac03408b98705d22def41265",
        "colab": {
          "base_uri": "https://localhost:8080/",
          "height": 489
        },
        "deepnote_cell_type": "code",
        "deepnote_to_be_reexecuted": false,
        "execution_millis": 2,
        "execution_start": 1686930815998,
        "id": "XVUR5s2jQy7Q",
        "outputId": "2fb30005-f25b-4c24-a7cf-e5086cce61e3",
        "source_hash": "553ccab0"
      },
      "outputs": [],
      "source": [
        "#calcular la importancia de las features del modelo entrenado utilizando todos los métodos (weight, cover, gain) que posee xgboost usando plot_importance\n",
        "# Hint: Puede acceder a un paso de un pipeline por su nombre mediante el método .named_steps[...\n",
        "plot_importance(pipeline.named_steps['classifier'], importance_type='weight')"
      ]
    },
    {
      "cell_type": "code",
      "execution_count": null,
      "metadata": {
        "colab": {
          "base_uri": "https://localhost:8080/",
          "height": 489
        },
        "id": "FB323-xeBB_Z",
        "outputId": "d5c905f9-db17-4881-af09-5643a1bf1dd4"
      },
      "outputs": [],
      "source": [
        "plot_importance(pipeline.named_steps['classifier'], importance_type='cover')"
      ]
    },
    {
      "cell_type": "code",
      "execution_count": null,
      "metadata": {
        "colab": {
          "base_uri": "https://localhost:8080/",
          "height": 489
        },
        "id": "hnvZltEuBHjh",
        "outputId": "2a0a4579-53d6-4095-e93a-9492449f2c32"
      },
      "outputs": [],
      "source": [
        "plot_importance(pipeline.named_steps['classifier'], importance_type='gain')"
      ]
    },
    {
      "cell_type": "markdown",
      "metadata": {
        "id": "JhvOq2BsBNjo"
      },
      "source": [
        "*Pregunta 2: ¿Los resultados obtenidos con los diferentes métodos son compatibles?, comente sus resultados y a que se debe la igualdad o desigualdad que ve en los resultados.*\n",
        "\n",
        "No son compatibles entre si ya que miden cosas diferentes y según eso es lo que se visualiza en los gráficos anteriores.\n",
        "\n",
        "El método weight mide que tan frecuente se usa cada característica y las mejores caracteristicas son: BMI, Age, PhysHlth y MentHlth.\n",
        "\n",
        "El método cover indica  que tan útil fue la caracteristica en las separaciones de los nodos, las mejores caracteristicas fueron: CholCheck, GenHlth 1.0, BMI, GenHlth 5.0, HvyAlcoholConsump, GenHlth 2.0, HighChol y Stroke.\n",
        "\n",
        "El método gain es una medida de la importancia de una característica para la mejora en el desempeño del modelo, las mejores caracteristicas son: HighBP, GenHlth 1.0 y GenHlth 2.0.\n"
      ]
    },
    {
      "cell_type": "markdown",
      "metadata": {
        "id": "apZEZvMRBPDX"
      },
      "source": [
        "*Pregunta 3: ¿las importancias obtenidas son suficientes para obtener la interpretabilidad de un modelo que utiliza árboles? ¿Qué debilidad presenta este método?*\n",
        "\n",
        "No son suficientes ya que hay más factores que influyen en la toma de decisiones del árbol.\n",
        "\n",
        "La debilidad que presenta este método es que no es posible que interactuen entre sí y por lo tanto no se puede determinar que caracteristicas son las mejores o no, ya que ciertas caracteristicas al interactuar con otras pueden aumentar de manera significativa la predicción correcta como tambien disminuirla.\n"
      ]
    },
    {
      "cell_type": "markdown",
      "metadata": {
        "cell_id": "37e42da05d404e6988e5cb213124d1a2",
        "deepnote_cell_type": "markdown",
        "id": "cB8wXvM3Qy7Q"
      },
      "source": [
        "## 4. Métodos Agnósticos Globales (10 puntos)\n",
        "\n",
        "<p align=\"center\">\n",
        "  <img src=\"https://media.tenor.com/JcRHtjVuXN8AAAAC/dr-simi-farmacias-similares.gif\" width=\"400\">\n",
        "</p>"
      ]
    },
    {
      "cell_type": "markdown",
      "metadata": {
        "cell_id": "2a5763d9e5744d4fb2a5b8c0478b67fd",
        "deepnote_cell_type": "markdown",
        "id": "sDQNwSSqQy7Q"
      },
      "source": [
        "Tareas:\n",
        "1. Para mitigar los problemas encontrados en la sección anterior, Dr. Simi le pide implementar un **método de permutación** que le permita observar la importancia de las features. `Nota:`Tenga cuidado con el orden de las columnas de este método. `Hint:` Puede obtener los features del clasificador con su respectivo orden mediante el método `.get_booster().feature_names` (2 puntos)\n",
        "2. Para que su modelo sea consistente, repita el proceso **30 veces** y verifique la desviación estándar de sus resultados (¿Qué señala esta?). (2 puntos)\n",
        "3. Visualice los resultados de este método en un gráfico. (2 puntos)\n",
        "4. Además, responda las siguientes preguntas:\n",
        "  - ¿Cómo mide la importancia de las features su propuesta? (1 punto)\n",
        "  - ¿Qué features tienen un mayor impacto en la salida del modelo?. Comente las 5 primeras, ¿tienen sentido? (1 punto)\n",
        "  - ¿Cómo cambian sus conclusiones con respecto a las features importances del punto anterior? (1 punto)\n",
        "  - Nombre y explique 3 ventajas y 3 desventajas del método implementado. (1 punto)"
      ]
    },
    {
      "cell_type": "code",
      "execution_count": null,
      "metadata": {
        "cell_id": "83032f5e2894423dbafa952e1d3f89cb",
        "deepnote_cell_type": "code",
        "deepnote_to_be_reexecuted": false,
        "execution_millis": 43036,
        "execution_start": 1686882223141,
        "id": "gpug7RLgQy7Q",
        "source_hash": "c8f2357f"
      },
      "outputs": [],
      "source": [
        "# Inserte su código aquí\n",
        "# Se implementa el método de permutación\n",
        "from sklearn.inspection import permutation_importance\n",
        "permutation_results = permutation_importance(pipeline, X_test, y_test, n_repeats=30, random_state=444)"
      ]
    },
    {
      "cell_type": "code",
      "execution_count": null,
      "metadata": {
        "colab": {
          "base_uri": "https://localhost:8080/",
          "height": 487
        },
        "id": "zkbQkGWiPuy2",
        "outputId": "18e3c6c9-9316-4108-feca-f0313182c1ca"
      },
      "outputs": [],
      "source": [
        "# Se visualizan los resultados con la desviación estandar\n",
        "import matplotlib.pyplot as plt\n",
        "\n",
        "importance_features = pd.DataFrame(permutation_results.importances, index=X.columns)\n",
        "importances_mean = importance_features.mean(axis=1)\n",
        "\n",
        "importances_sorted = importance_features.loc[importances_mean.sort_values(ascending=True).index]\n",
        "\n",
        "plt.figure(figsize=(10, 5))\n",
        "importances_sorted.T.boxplot(vert=False)\n",
        "plt.xlabel('Error')\n",
        "plt.ylabel('Features')\n",
        "plt.title('Importancia de las features con 30 repeticiones')\n",
        "plt.show()"
      ]
    },
    {
      "cell_type": "markdown",
      "metadata": {
        "id": "_fyGdxAxVxnm"
      },
      "source": [
        "Respuestas:\n",
        "\n",
        "P2 - La desviación estándar indica la variabilidad de la importancia en cada feature, ya que no se espera que sea la mmisma en cada iteración que se realiza, debido a que las reglas de evaluación en cada árbol varía. Una alta desviación estándar indicaría que la importancia del feature varia considerablemente entre cada iteración; mientras que en el caso contrario, señalaría que el feature es consistentemente importante.\n",
        "\n",
        "P4 -\n",
        "* ¿Cómo mide la importancia de las features su propuesta?\n",
        "\n",
        "Con lo desarrollado, se mide la importancia a través del error obtenido en cada iteración evaluando en cada una de estas si el feature tiene una gran importancia en el modelo o no, a través de cambiar su valor individualmente.\n",
        "\n",
        "* ¿Qué features tienen un mayor impacto en la salida del modelo?. Comente las 5 primeras, ¿tienen sentido?\n",
        "\n",
        "Las features que tienen un mayor impacto en la salida del modelo son GenHlth, BMI, Age, HighBP y HighCol. Estas tienen sentido que sean las más altas ya que son factores que son determinantes en la presencia de Diabetes o no como el estado de salud, el peso, la edad, etc.\n",
        "\n",
        "*  ¿Cómo cambian sus conclusiones con respecto a las features importances del punto anterior?\n",
        "\n",
        "Las features más importantes, tanto en el punto anterior como en este, se mantienen por lo que se podría concluir que este método tiene relación con el método anterior en algún aspecto.\n",
        "\n",
        "*  Nombre y explique 3 ventajas y 3 desventajas del método implementado.\n",
        "\n",
        "Ventajas:\n",
        "\n",
        "1.   Independencia del modelo interno: No depende de cómo el modelo está construido internamente, por lo que es generalizable con otros tipos.\n",
        "2.   Fácil interpretración: Porporciona una métrica que se puede interpretar fácilmente, permitiendo una comunicación de resultados más fluida.\n",
        "3.   Evaluación del impacto en el modelo: Se mide cómo afecta la permutación de cada feature en el rendimiento del modelo, obteniendo una idea clara de la importancia de cada una.\n",
        "\n",
        "Desventajas:\n",
        "1.   Alto costo computacional: Si se llega a requerir evaluar varias veces un modelo, es costoso en términos de tiempo y recursos computacionales.\n",
        "2.   Sensibilidad ante variaciones: La importancia en las features es sensible a la variación generando distintos tiempos computacionales dependiendo de la variable modificada.\n",
        "3.   Limitación ante complejidad: Probablemente no capture adecuadamente la importancia de las features en modelos con una alta complejidad.\n"
      ]
    },
    {
      "cell_type": "markdown",
      "metadata": {
        "cell_id": "bd24642fe85143b9bcdae0607e0bb2f6",
        "deepnote_cell_type": "markdown",
        "id": "4lR52BoIQy7R"
      },
      "source": [
        "## 5. Métodos Agnósticos Locales (20 puntos)\n",
        "\n",
        "<p align=\"center\">\n",
        "  <img src=\"https://i.makeagif.com/media/10-24-2024/oMCrLI.gif\" width=\"400\">\n",
        "</p>"
      ]
    },
    {
      "cell_type": "markdown",
      "metadata": {
        "cell_id": "feffba3234c9428abbc9f7db957c5b64",
        "deepnote_cell_type": "markdown",
        "id": "NTeHLX8GQy7R"
      },
      "source": [
        "### 5.1 Calculando Shap Values (4 puntos)"
      ]
    },
    {
      "cell_type": "markdown",
      "metadata": {
        "cell_id": "3dd06a63b4b045c1ab3e51ac01e0fbc0",
        "deepnote_cell_type": "markdown",
        "id": "81G7bX8PQy7R"
      },
      "source": [
        "Tareas:\n",
        "1. Alegre por saber cómo funciona el modelo de predicción a nivel general, Dr. Simi le pide ahora interpretar las predicciones de su modelo a nivel de paciente (es decir, desde un punto de vista **local**). Para esto, el ilustre farmacéutico le pide calcular los *shap values* de su modelo. (2 puntos)\n",
        "2. ¿Qué representa cada número en su resultado? (1 punto)\n",
        "3. ¿Es posible atribuir un significado a la positividad/negatividad de cada valor? (1 punto)"
      ]
    },
    {
      "cell_type": "code",
      "execution_count": null,
      "metadata": {
        "cell_id": "dada61becc854fe4830665a1e1fcfb8b",
        "colab": {
          "base_uri": "https://localhost:8080/"
        },
        "deepnote_cell_type": "code",
        "deepnote_to_be_reexecuted": false,
        "execution_millis": 7982,
        "execution_start": 1686925464848,
        "id": "cahAA22RQy7R",
        "outputId": "4b01518e-54f7-4e84-9d45-255b8e42b4ee",
        "source_hash": "5d97bad"
      },
      "outputs": [],
      "source": [
        "!pip install shap"
      ]
    },
    {
      "cell_type": "code",
      "execution_count": null,
      "metadata": {
        "cell_id": "c2d01e18bb9946579275006ac63f29f8",
        "deepnote_cell_type": "code",
        "deepnote_to_be_reexecuted": false,
        "execution_millis": 2,
        "execution_start": 1686884837621,
        "id": "S7bjY7XmQy7R",
        "source_hash": "7220fd12"
      },
      "outputs": [],
      "source": [
        "import warnings\n",
        "warnings.filterwarnings(\"ignore\", message=\".*The 'nopython' keyword.*\")"
      ]
    },
    {
      "cell_type": "code",
      "execution_count": null,
      "metadata": {
        "cell_id": "28773926243a4632adf4ebe7f9b23c86",
        "colab": {
          "base_uri": "https://localhost:8080/"
        },
        "deepnote_cell_type": "code",
        "deepnote_to_be_reexecuted": false,
        "execution_millis": 3,
        "execution_start": 1686930931899,
        "id": "1MLhkQu0Qy7S",
        "outputId": "3bc37033-fd48-4b01-cdb2-8fccfd256021",
        "source_hash": "7b093107"
      },
      "outputs": [],
      "source": [
        "# Inserte código para calcular shapley values aquí\n",
        "import shap\n",
        "shap_explainer = shap.Explainer(pipeline.named_steps['classifier'],preprocessor.transform(X_test))\n",
        "shap_values = shap_explainer(preprocessor.transform(X_test))"
      ]
    },
    {
      "cell_type": "code",
      "execution_count": null,
      "metadata": {
        "colab": {
          "base_uri": "https://localhost:8080/"
        },
        "id": "YVuSheMGW-6F",
        "outputId": "d3028f9b-bfee-40f3-ffd2-658a0be4ad50"
      },
      "outputs": [],
      "source": [
        "shap_values"
      ]
    },
    {
      "cell_type": "markdown",
      "metadata": {
        "id": "bsaSjhjJXjYl"
      },
      "source": [
        "Respuestas:\n",
        "\n",
        "P2 - Se presentan 3 tipos de valores shap, los valores.values, los cuales corresponden a el shap calculado para cada feature demostrando la importancia de cada uno de estos, los valores.base_values, los que corresponden a los valores base para las predicciones del modelo, y los valores.data, los que corresponden a el conjunto de datos sobre el cual se están calculando los valores shap.\n",
        "\n",
        "P3 - Si, los valores positivos corresponden a que ese feature tiene una mayor importancia para el modelo, ya que este permitiría una predicción más exacta, mientras que los valores negativos indicarían que la presencia de este feature tiene un efecto negativo en la predicción causando que esta disminuya."
      ]
    },
    {
      "cell_type": "markdown",
      "metadata": {
        "cell_id": "ca1ccbeae2b2444d925329e0fd1c7bff",
        "deepnote_cell_type": "markdown",
        "id": "4aGmOtVPQy7S"
      },
      "source": [
        "### 5.2 Aporte local (4 puntos)"
      ]
    },
    {
      "cell_type": "markdown",
      "metadata": {
        "cell_id": "d1bd38afb30a418dad4d5229826459a3",
        "deepnote_cell_type": "markdown",
        "id": "-ucDyFmWQy7S"
      },
      "source": [
        "1. Usando los *shap values* calculados, grafique el **aporte local** de las diferentes variables para las instancias **1**, **9** y **150** (1 punto).\n",
        "\n",
        "2. Interprete sus resultados y responda:\n",
        "\n",
        "  - ¿Qué variables afectan de manera positiva/negativa a la probabilidad de poseer diabetes? (1 punto)\n",
        "\n",
        "  - ¿Existe algún patrón común entre las instancias analizadas? (1 punto)\n",
        "\n",
        "  - ¿Es posible generalizar estas conclusiones a todo el dataset? (1 punto)"
      ]
    },
    {
      "cell_type": "code",
      "execution_count": null,
      "metadata": {
        "cell_id": "114ead8d9d674348a6eb462b83e54f0b",
        "colab": {
          "base_uri": "https://localhost:8080/",
          "height": 957
        },
        "deepnote_cell_type": "code",
        "deepnote_to_be_reexecuted": false,
        "execution_millis": 2,
        "execution_start": 1686930940135,
        "id": "pFfuO9JqQy7S",
        "outputId": "1e48da0e-29fc-44ba-b07b-65c7b5898e2b",
        "source_hash": "5f8720eb"
      },
      "outputs": [],
      "source": [
        "# Inserte código para generar gráficos de aporte local aquí\n",
        "# Variable 1\n",
        "shap.summary_plot(shap_values[[1]], feature_names=preprocessor.transform(X_test).columns)"
      ]
    },
    {
      "cell_type": "code",
      "execution_count": null,
      "metadata": {
        "colab": {
          "base_uri": "https://localhost:8080/",
          "height": 957
        },
        "id": "mPW0z8NfXzfb",
        "outputId": "25e21e9a-af99-426f-f841-aa60262ecb9d"
      },
      "outputs": [],
      "source": [
        "# Variable 9\n",
        "shap.summary_plot(shap_values[[9]], feature_names=preprocessor.transform(X_test).columns)"
      ]
    },
    {
      "cell_type": "code",
      "execution_count": null,
      "metadata": {
        "colab": {
          "base_uri": "https://localhost:8080/",
          "height": 957
        },
        "id": "73OogdwkX1Oe",
        "outputId": "833fa186-43ae-4665-a210-0a6f6210229d"
      },
      "outputs": [],
      "source": [
        "# Variable 150\n",
        "shap.summary_plot(shap_values[[150]], feature_names=preprocessor.transform(X_test).columns)"
      ]
    },
    {
      "cell_type": "markdown",
      "metadata": {
        "id": "74y1HZDEX2mH"
      },
      "source": [
        "Respuestas:\n",
        "\n",
        "a) Se puede observar que para los distintos casos varía el impacto que tienen los features, por ejemplo para el caso 1 y 150 HighBP implica de manera positiva, mientras que el caso 9 implica de manera negativa. Pero a grandes rasgos se conlcuye que Age implica de manera negativa igual que GenHlth_2.0 y BMI, GenHlth_5.0 y HighBP de manera positiva.\n",
        "\n",
        "b) No se aprecia un patrón en común entre las instancias, sin embargo como se mencionó antes, hay algunos features que mantienen su positividad o negatividad en más de una instancia.\n",
        "\n",
        "c) A partir de las instancias revisadas no se podrían generalizar para el dataset completo, ya que los resultados evaluados no presentan un patrón para aplicar."
      ]
    },
    {
      "cell_type": "markdown",
      "metadata": {
        "cell_id": "717f41e3ccf143a483af4f350e510225",
        "deepnote_cell_type": "markdown",
        "id": "z34Bo3nuQy7T"
      },
      "source": [
        "### 5.3 Aporte global (4 puntos)"
      ]
    },
    {
      "cell_type": "markdown",
      "metadata": {
        "cell_id": "691dfe735fa644d5a8cac6e7053621ce",
        "deepnote_cell_type": "markdown",
        "id": "_-F3drm-Qy7T"
      },
      "source": [
        "Genere ahora una visualización donde se grafique el aporte de cada feature a nivel **global** e interprete sus resultados. ¿Qué diferencias existen con las conclusiones generadas a nivel de instancia?"
      ]
    },
    {
      "cell_type": "code",
      "execution_count": null,
      "metadata": {
        "cell_id": "54e88d349b7c476d82a95b977ce23fd4",
        "colab": {
          "base_uri": "https://localhost:8080/",
          "height": 957
        },
        "deepnote_cell_type": "code",
        "deepnote_to_be_reexecuted": false,
        "execution_millis": 4,
        "execution_start": 1686930956967,
        "id": "1cBZnPHHQy7T",
        "outputId": "97e75619-92b8-4bcc-f678-b1ed032d4fd4",
        "source_hash": "99e7a96a"
      },
      "outputs": [],
      "source": [
        "# Inserte código para generar gráficos de aporte global aquí\n",
        "shap.summary_plot(shap_values, feature_names=preprocessor.transform(X_test).columns)"
      ]
    },
    {
      "cell_type": "markdown",
      "metadata": {
        "id": "KnScub0RZuSP"
      },
      "source": [
        "Respuesta:\n",
        "\n",
        "Se puede observar un impacto más general por feature a diferencia de a nivel de instancia que presenta puntos específicos que pueden o no ser represetativos para ese feature."
      ]
    },
    {
      "cell_type": "markdown",
      "metadata": {
        "cell_id": "8c6e3e238a6c48719cd048ce9e5201d5",
        "deepnote_cell_type": "markdown",
        "id": "Vk7B9zHoQy7T"
      },
      "source": [
        "### 5.4 Scatter plot (4 puntos)\n"
      ]
    },
    {
      "cell_type": "markdown",
      "metadata": {
        "cell_id": "4cfe79b39ac646658225180063391369",
        "deepnote_cell_type": "markdown",
        "id": "b9RX6vCiQy7U"
      },
      "source": [
        "Grafique ahora un *scatterplot* entre los *shap values* y las primeras 5 features con mayor impacto global (un gráfico por cada feature), coloreando cada punto por la probabilidad de tener diabetes. ¿Qué puede concluir de sus resultados?"
      ]
    },
    {
      "cell_type": "code",
      "execution_count": null,
      "metadata": {
        "cell_id": "fe980bf5ee9c4cda84cb87db6e6f41dd",
        "colab": {
          "base_uri": "https://localhost:8080/",
          "height": 1000
        },
        "deepnote_cell_type": "code",
        "deepnote_to_be_reexecuted": false,
        "execution_millis": 2,
        "execution_start": 1686930965534,
        "id": "lRlG8s2dQy7U",
        "outputId": "09ceeb21-5fa8-4e43-9dfe-c00cdddee9f3",
        "source_hash": "80c98595"
      },
      "outputs": [],
      "source": [
        "# Inserte código para generar gráficos de feature vs shap value aquí\n",
        "top5 = ['HighBP', 'BMI', 'Age', 'GenHlth_2.0', 'HighChol']\n",
        "for feature in top5:\n",
        "  shap.plots.scatter(shap_values[:, preprocessor.transform(X_test).columns.get_loc(feature)], color=shap_values)\n",
        "  plt.show()"
      ]
    },
    {
      "cell_type": "markdown",
      "metadata": {
        "id": "wQvatszhaeTh"
      },
      "source": [
        "Respuestas:\n",
        "\n",
        "En base a los resultados observados se puede observar que cada uno impacta de manera distinta la probabilidad de presentar Diabetes. Se puede observar que a mayor Age, un mayor HighChol, mayor HighBP y mayor BMI la probabilidad de tener Diabetes aumenta, mientras que si aumenta GenHlth_2.0 disminuye la probabilidad de tener Diabetes."
      ]
    },
    {
      "cell_type": "markdown",
      "metadata": {
        "cell_id": "4204ce61132f4a91b465bd1324668ec4",
        "deepnote_cell_type": "markdown",
        "id": "724u-ijOQy7U"
      },
      "source": [
        "### 5.5 Partial Dependence Plot (4 puntos)"
      ]
    },
    {
      "cell_type": "markdown",
      "metadata": {
        "id": "SJBXLAR3HWhl"
      },
      "source": [
        "Finalmente, se le pide generar un gráfico del tipo Partial Dependence Plot para las mismas 5 variables con mayor impacto global usando una submuestra de 1000 observaciones. ¿Qué relación existe entre la salida promedio del modelo y cada feature analizada? ¿Son estas conclusiones generalizables para todo el conjunto de datos?"
      ]
    },
    {
      "cell_type": "code",
      "execution_count": null,
      "metadata": {
        "cell_id": "fe7a7b2e6f664d129fee9f64dd57f6bd",
        "colab": {
          "base_uri": "https://localhost:8080/",
          "height": 1000
        },
        "deepnote_cell_type": "code",
        "deepnote_to_be_reexecuted": false,
        "execution_millis": 4,
        "execution_start": 1686930977674,
        "id": "tHKM8KHtQy7U",
        "outputId": "5d92a489-652a-4486-cd81-0061ea13a8a7",
        "source_hash": "4e0f176b"
      },
      "outputs": [],
      "source": [
        "# Inserte código para generar gráficos PDP aquí\n",
        "submuestra = shap.utils.sample(preprocessor.transform(X_test), 1000)\n",
        "for feature in top5:\n",
        "  shap.plots.partial_dependence(feature, pipeline.named_steps['classifier'].predict, submuestra)\n",
        "  plt.show()"
      ]
    },
    {
      "cell_type": "markdown",
      "metadata": {
        "id": "IU8tileIfQiU"
      },
      "source": [
        "Respuestas:\n",
        "\n",
        "Los resultados presentes corresponden a los mismos concluidos en la sección anterior, mayor Age, un mayor HighChol, mayor HighBP y mayor BMI la probabilidad de tener Diabetes aumenta, mientras que si aumenta GenHlth_2.0 disminuye la probabilidad de tener Diabetes.\n",
        "\n",
        "Ya que la muestra utilizada es muy pequeña en comparación a el tamaño de la base de datos, no es recomendable generalizar los resultados obtenidos."
      ]
    },
    {
      "cell_type": "markdown",
      "metadata": {
        "cell_id": "22e4da384e83491e8e7c8dc9b875ad6b",
        "deepnote_cell_type": "markdown",
        "id": "i4tFPrFA4_O5"
      },
      "source": [
        "## 6. Sistema de Reglas! (10 punto)\n",
        "\n",
        "<p align=\"center\">\n",
        "  <img src=\"https://media.baamboozle.com/uploads/images/125978/1638281150_1380186_gif-url.gif\" width=\"400\">\n",
        "</p>"
      ]
    },
    {
      "cell_type": "markdown",
      "metadata": {
        "cell_id": "cbf4bdc66df14a948ee275be86501d4a",
        "deepnote_cell_type": "markdown",
        "id": "f_4NF0_V5XZ-"
      },
      "source": [
        "Después de todo el trabajo hecho, Dr. Simi le pide simplificar el funcionamiento de su modelo en un sistema de reglas que le permita explicar a sus clientes las predicciones que genera su modelo.\n",
        "En particular, Dr. Simi le pide explicar la decisión tomada para las observaciones **1000**, **3001** y **5751**. Con las reglas propuestas señale a **cuánta población** es posible explicar con estas reglas e indique la **precisión** que poseen las reglas en la totalidad de los datos. ¿Tienen sentido sus reglas propuestas para las observaciones?. Fundamente sus respuesta señalando el impacto que tienen sus reglas sobre todo el conjunto de datos.\n",
        "\n",
        "`Hint:` Como debe entregar las columnas que entran al clasificador entrenado de su pipeline, le será útil extraer el paso de preprocesamiento y generar dataframes preprocesados para el conjunto `train` y `test`."
      ]
    },
    {
      "cell_type": "code",
      "execution_count": null,
      "metadata": {
        "cell_id": "9e3327e11a104dd5917f594a5e10baee",
        "colab": {
          "base_uri": "https://localhost:8080/"
        },
        "deepnote_cell_type": "code",
        "deepnote_to_be_reexecuted": false,
        "execution_millis": 21693,
        "execution_start": 1686885552805,
        "id": "arJkVfO9Qy7b",
        "outputId": "67fd889a-91e9-4bc0-ce1b-30e7056b29a2",
        "source_hash": "e7a6b6c4",
        "tags": []
      },
      "outputs": [],
      "source": [
        "!pip install alibi"
      ]
    },
    {
      "cell_type": "code",
      "execution_count": null,
      "metadata": {
        "cell_id": "bb38bb05376b429297fb0b3618fec6d4",
        "deepnote_cell_type": "code",
        "deepnote_to_be_reexecuted": false,
        "execution_millis": 10473,
        "execution_start": 1686885694481,
        "id": "_ED-yF_hQy7b",
        "source_hash": "e4ec2c4b"
      },
      "outputs": [],
      "source": [
        "from alibi.explainers import AnchorTabular"
      ]
    },
    {
      "cell_type": "code",
      "execution_count": null,
      "metadata": {
        "colab": {
          "base_uri": "https://localhost:8080/",
          "height": 253
        },
        "id": "UQL2Rnx9gOex",
        "outputId": "98b63185-b353-4cdf-aa53-341ce2fbce43"
      },
      "outputs": [],
      "source": [
        "# Se crean los datos según el hint\n",
        "X_train_preprocessed = preprocessor.fit_transform(X_train)\n",
        "X_test_preprocessed = preprocessor.transform(X_test)\n",
        "\n",
        "# Se entrena el modelo\n",
        "model = XGBClassifier()\n",
        "model.fit(X_train_preprocessed, y_train)"
      ]
    },
    {
      "cell_type": "code",
      "execution_count": null,
      "metadata": {
        "cell_id": "c51b7d6bfea74288b77cb73ba8c86978",
        "colab": {
          "base_uri": "https://localhost:8080/"
        },
        "deepnote_cell_type": "code",
        "deepnote_to_be_reexecuted": false,
        "execution_millis": 76,
        "execution_start": 1686931515362,
        "id": "msFaoQBaQy7c",
        "outputId": "a75f02da-f7d0-4cca-f9f7-c831e20e0d0a",
        "source_hash": "51992da3"
      },
      "outputs": [],
      "source": [
        "# Inserte su código para generar sistema de reglas aquí\n",
        "feature_names = X_train_preprocessed.columns.tolist()\n",
        "explicador = AnchorTabular(model.predict, feature_names=feature_names, seed= 444)\n",
        "explicador.fit(X_train_preprocessed.values)\n",
        "\n",
        "idx = 1000\n",
        "# explicar predicción idx 1000\n",
        "explicacion1000 = explicador.explain(X_train_preprocessed.iloc[idx].values)\n",
        "print('Explicación para observación de 1000')\n",
        "print('Reglas aplicadas: ' + str(explicacion1000.anchor))\n",
        "print('Cobertura de población estimada: ' + str(explicacion1000.coverage))\n",
        "print('Precisión obtenida: ' + str(explicacion1000.precision))\n",
        "\n",
        "print('--------------------------------------------------------------------------')\n",
        "\n",
        "idx = 3001\n",
        "# explicar predicción idx 3001\n",
        "explicacion3001 = explicador.explain(X_train_preprocessed.iloc[idx].values)\n",
        "print('Explicación para observación de 3001')\n",
        "print('Reglas aplicadas: ' + str(explicacion3001.anchor))\n",
        "print('Cobertura de población estimada: ' + str(explicacion3001.coverage))\n",
        "print('Precisión obtenida: ' + str(explicacion3001.precision))\n",
        "\n",
        "print('--------------------------------------------------------------------------')\n",
        "\n",
        "idx = 5751\n",
        "# explicar predicción idx 5751\n",
        "explicacion5751 = explicador.explain(X_train_preprocessed.iloc[idx].values)\n",
        "print('Explicación para observación de 5751')\n",
        "print('Reglas aplicadas: ' + str(explicacion5751.anchor))\n",
        "print('Cobertura de población estimada: ' + str(explicacion5751.coverage))\n",
        "print('Precisión obtenida: ' + str(explicacion5751.precision))"
      ]
    },
    {
      "cell_type": "markdown",
      "metadata": {
        "id": "oyiaL4P_iWY1"
      },
      "source": [
        "Respuestas:\n",
        "\n",
        "Observando los resultados obtenidos se puede observar que las reglas se contradicen entre si, ya que en algunos puntos pide cierto valor para una característica para que sea considerado Diabetes mientras que en otra pide el rango inverso de esta. Además se puede observar que se tiene una cobertura muy baja de la población para cada regla, sin embargo una precisión extremadamente alta, por lo que se concluye que estas reglas serían consideradas para un subconjunto de la población muy específico donde estas reglas funcionaran."
      ]
    },
    {
      "cell_type": "markdown",
      "metadata": {
        "cell_id": "b358083895d844bbafee6969082e98db",
        "deepnote_cell_type": "markdown",
        "id": "0QvR_juJQy7c"
      },
      "source": [
        "# Retrospectiva... (10 puntos)"
      ]
    },
    {
      "cell_type": "markdown",
      "metadata": {
        "cell_id": "1db767e048bd4bf2bc86d9c49acc0c36",
        "deepnote_cell_type": "markdown",
        "id": "-5ljFheRQy7c"
      },
      "source": [
        "En base a los diferentes métodos que implementa y ha comentado en este laboratorio, comente qué métodos le permiten entregar mejores conclusiones para la tarea de clasificación de diabetes. Por otro lado, ¿qué métodos son más útiles para el problema del doctor Simi, métodos agnosticos locales o globales?"
      ]
    },
    {
      "cell_type": "markdown",
      "metadata": {
        "cell_id": "c841a2af491648f591108c7483afc66f",
        "deepnote_cell_type": "markdown",
        "id": "PVbQ8dyoQy7c"
      },
      "source": [
        "Cada uno de los métodos tratados en este laboratorio tiene un enfoque distinto, por lo que la elección del más adecuado dependerá de los objetivos que se busquen satisfacer, considerando algunas limitaciones, como serían los costos asociados al procesamiento de datos, la generación de modelos o el nivel de detalle requerido para las características.\n",
        "\n",
        "Por otro lado, la utilidad de un método para el doctor Simi dependerá del tipo de información que desea obtener. Si busca información general o busca tomar decisiones de manera amplia, por lo que se recomiendaría utilizar métodos globales. En cambio, si el objetivo es abordar el problema de forma más específica para un individu en específico, se debería optar por los métodos locales."
      ]
    },
    {
      "cell_type": "markdown",
      "metadata": {
        "cell_id": "ad6f278e9e12463dbdde6a009cd0b97a",
        "deepnote_cell_type": "markdown",
        "id": "3CyhXoq9Qy7d"
      },
      "source": [
        "# Conclusión\n",
        "Eso ha sido todo para el lab de hoy, recuerden que el laboratorio tiene un plazo de entrega de una semana. Cualquier duda del laboratorio, no duden en contactarnos por mail o U-cursos.\n",
        "\n",
        "![Gracias Totales!](https://media.tenor.com/ctnq4bhZE3gAAAAC/drsimi-simi.gif)"
      ]
    },
    {
      "cell_type": "markdown",
      "metadata": {
        "created_in_deepnote_cell": true,
        "deepnote_cell_type": "markdown",
        "id": "arS9Nm9YQy7d"
      },
      "source": [
        "<a style='text-decoration:none;line-height:16px;display:flex;color:#5B5B62;padding:10px;justify-content:end;' href='https://deepnote.com?utm_source=created-in-deepnote-cell&projectId=87110296-876e-426f-b91d-aaf681223468' target=\"_blank\">\n",
        "<img alt='Created in deepnote.com' style='display:inline;max-height:16px;margin:0px;margin-right:7.5px;' src='data:image/svg+xml;base64,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' > </img>\n",
        "Created in <span style='font-weight:600;margin-left:4px;'>Deepnote</span></a>"
      ]
    }
  ],
  "metadata": {
    "colab": {
      "provenance": []
    },
    "deepnote": {},
    "deepnote_execution_queue": [],
    "deepnote_notebook_id": "0afd011ae5da4596ac4144fb27adc429",
    "deepnote_persisted_session": {
      "createdAt": "2023-06-16T16:30:21.663Z"
    },
    "kernelspec": {
      "display_name": "Python 3",
      "language": "python",
      "name": "python3"
    },
    "language_info": {
      "codemirror_mode": {
        "name": "ipython",
        "version": 3
      },
      "file_extension": ".py",
      "mimetype": "text/x-python",
      "name": "python",
      "nbconvert_exporter": "python",
      "pygments_lexer": "ipython3",
      "version": "3.8.3"
    },
    "toc": {
      "base_numbering": 1,
      "nav_menu": {},
      "number_sections": true,
      "sideBar": true,
      "skip_h1_title": true,
      "title_cell": "Tabla de Contenidos",
      "title_sidebar": "Contenidos",
      "toc_cell": false,
      "toc_position": {
        "height": "calc(100% - 180px)",
        "left": "10px",
        "top": "150px",
        "width": "241.867px"
      },
      "toc_section_display": true,
      "toc_window_display": true
    },
    "varInspector": {
      "cols": {
        "lenName": 16,
        "lenType": 16,
        "lenVar": 40
      },
      "kernels_config": {
        "python": {
          "delete_cmd_postfix": "",
          "delete_cmd_prefix": "del ",
          "library": "var_list.py",
          "varRefreshCmd": "print(var_dic_list())"
        },
        "r": {
          "delete_cmd_postfix": ") ",
          "delete_cmd_prefix": "rm(",
          "library": "var_list.r",
          "varRefreshCmd": "cat(var_dic_list()) "
        }
      },
      "types_to_exclude": [
        "module",
        "function",
        "builtin_function_or_method",
        "instance",
        "_Feature"
      ],
      "window_display": false
    }
  },
  "nbformat": 4,
  "nbformat_minor": 0
}
