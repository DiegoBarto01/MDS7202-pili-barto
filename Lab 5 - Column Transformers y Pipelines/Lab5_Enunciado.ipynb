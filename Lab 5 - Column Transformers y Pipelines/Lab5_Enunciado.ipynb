{
  "cells": [
    {
      "cell_type": "markdown",
      "metadata": {
        "id": "XUZ1dFPHzAHl"
      },
      "source": [
        "<h1><center>Laboratorio 5: La desperación de Mr. Cheems 🐼</center></h1>\n",
        "\n",
        "<center><strong>MDS7202: Laboratorio de Programación Científica para Ciencia de Datos - Primavera 2024</strong></center>"
      ]
    },
    {
      "cell_type": "markdown",
      "metadata": {
        "id": "UD8X1uhGzAHq"
      },
      "source": [
        "### Cuerpo Docente:\n",
        "\n",
        "- Profesores: Ignacio Meza, Sebastián Tinoco\n",
        "- Auxiliar: Eduardo Moya\n",
        "- Ayudantes: Nicolás Ojeda, Melanie Peña, Valentina Rojas"
      ]
    },
    {
      "cell_type": "markdown",
      "metadata": {
        "id": "tXflExjqzAHr"
      },
      "source": [
        "### Equipo: SUPER IMPORTANTE - notebooks sin nombre no serán revisados\n",
        "\n",
        "- Nombre de alumno 1: Diego Bartolucci\n",
        "- Nombre de alumno 2: Pilar Nilo\n"
      ]
    },
    {
      "cell_type": "markdown",
      "metadata": {
        "id": "AD-V0bbZzAHr"
      },
      "source": [
        "### **Link de repositorio de GitHub:** [Repositorio](https://github.com/DiegoBarto01/MDS7202-pili-barto.git)"
      ]
    },
    {
      "cell_type": "markdown",
      "metadata": {
        "id": "6uBLPj1PzAHs"
      },
      "source": [
        "## Temas a tratar\n",
        "- Aplicar Pandas para obtener características de un DataFrame.\n",
        "- Aplicar Pipelines y Column Transformers\n",
        "\n",
        "## Reglas:\n",
        "\n",
        "- **Grupos de 2 personas**\n",
        "- Fecha de entrega: 6 días de plazo con descuento de 1 punto por día. Entregas Jueves a las 23:59.\n",
        "- Instrucciones del lab el viernes a las 16:15 en formato online. Asistencia no es obligatoria.\n",
        "- <u>Prohibidas las copias</u>. Cualquier intento de copia será debidamente penalizado con el reglamento de la escuela.\n",
        "- Tienen que subir el laboratorio a u-cursos y a su repositorio de github. Labs que no estén en u-cursos no serán revisados. Recuerden que el repositorio también tiene nota.\n",
        "- Cualquier duda fuera del horario de clases al foro. Mensajes al equipo docente serán respondidos por este medio.\n",
        "- Pueden usar cualquier material del curso que estimen conveniente.\n",
        "\n",
        "### Objetivos principales del laboratorio\n",
        "- Comprender cómo aplicar pipelines de Scikit-Learn para generar procesos más limpios en Feature Engineering.\n",
        "\n",
        "El laboratorio deberá ser desarrollado sin el uso indiscriminado de iteradores nativos de python (aka \"for\", \"while\"). La idea es que aprendan a exprimir al máximo las funciones optimizadas que nos entrega `numpy`, las cuales vale mencionar, son bastante más eficientes que los iteradores nativos sobre arreglos (*o tensores*)."
      ]
    },
    {
      "cell_type": "markdown",
      "metadata": {
        "id": "wrG4gYabzAHs"
      },
      "source": [
        "## Descripción del laboratorio."
      ]
    },
    {
      "cell_type": "markdown",
      "metadata": {
        "id": "MhISwri4zAHy"
      },
      "source": [
        "### Importamos librerias utiles 😸"
      ]
    },
    {
      "cell_type": "code",
      "execution_count": null,
      "metadata": {
        "colab": {
          "base_uri": "https://localhost:8080/"
        },
        "id": "uyc33dKdzAHy",
        "outputId": "b3201205-91f3-43e5-8d2c-0fdaca9cd066"
      },
      "outputs": [],
      "source": [
        "# Libreria Core del lab.\n",
        "import numpy as np\n",
        "import pandas as pd\n",
        "import datetime\n",
        "from IPython.display import HTML\n",
        "\n",
        "# Libreria para plotear (En colab esta desactualizado plotly)\n",
        "!pip install --upgrade plotly\n",
        "import plotly.express as px\n",
        "import plotly.graph_objects as go\n",
        "\n",
        "# Librerias utiles\n",
        "from sklearn.base import BaseEstimator, TransformerMixin\n",
        "from sklearn.pipeline import Pipeline\n",
        "from sklearn.compose import ColumnTransformer\n",
        "from sklearn.preprocessing import FunctionTransformer"
      ]
    },
    {
      "cell_type": "code",
      "execution_count": null,
      "metadata": {
        "colab": {
          "base_uri": "https://localhost:8080/"
        },
        "id": "gQ0-zPV4NNrq",
        "outputId": "f64180f3-e235-496d-9157-6cdbfdc312ba"
      },
      "outputs": [],
      "source": [
        "# Si usted está utilizando Colabolatory le puede ser útil este código para cargar los archivos.\n",
        "try:\n",
        "    from google.colab import drive\n",
        "    drive.mount(\"/content/drive\")\n",
        "    path = '/content/drive/MyDrive/Lab_5/'\n",
        "except:\n",
        "    print('Ignorando conexión drive-colab')"
      ]
    },
    {
      "cell_type": "markdown",
      "metadata": {
        "id": "QDwIXTh7bK_A"
      },
      "source": [
        "# Feature engineering en datos de retail 🛍️"
      ]
    },
    {
      "cell_type": "markdown",
      "metadata": {
        "id": "_Eu4qBqnXMff"
      },
      "source": [
        "### 0. Cargar Dataset"
      ]
    },
    {
      "cell_type": "markdown",
      "metadata": {
        "id": "4shIzqqwXMfe"
      },
      "source": [
        "<p align=\"center\">\n",
        "  <img width=300 src=\"https://s1.eestatic.com/2018/04/14/social/la_jungla_-_social_299733421_73842361_854x640.jpg\">\n",
        "</p>"
      ]
    },
    {
      "cell_type": "markdown",
      "metadata": {
        "id": "cDpKjYRCXMfg"
      },
      "source": [
        "Mr. Cheems, gerente de una cotizada tienda de retail en Europa, les solicita si pueden analizar los datos de algunas de sus tiendas. En una reunión, Mr Cheems le comenta que la calidad de sus datos no es muy buena, por lo que le solicita a usted que limpie su base de datos y cree nuevos atributos relevantes para el negocio.\n",
        "\n",
        "Por ello, el área de ventas les entrega archivo llamado `online_retail_data.pickle` el cual usted decide cargar a continuación."
      ]
    },
    {
      "cell_type": "code",
      "execution_count": null,
      "metadata": {
        "colab": {
          "base_uri": "https://localhost:8080/",
          "height": 423
        },
        "id": "7FNOu-CvjV5m",
        "outputId": "2c01fa65-b01b-4821-831b-5d3c4ae2ba31"
      },
      "outputs": [],
      "source": [
        "# Inserte su código aquí\n",
        "import pickle\n",
        "path_retail= path + \"/online_retail_data.pickle\"\n",
        "with open(path_retail, 'rb') as file:\n",
        "    object_pkl = pickle.load(file)\n",
        "df_retail = object_pkl\n",
        "df_retail"
      ]
    },
    {
      "cell_type": "markdown",
      "metadata": {
        "id": "Q6nm_0uWvrFv"
      },
      "source": [
        "### 1. Función para explorar características [5 puntos]"
      ]
    },
    {
      "cell_type": "markdown",
      "metadata": {
        "id": "KOZEZbbLoqfI"
      },
      "source": [
        "<p align=\"center\">\n",
        "  <img width=300 src=\"https://editor.analyticsvidhya.com/uploads/47389meme.png\">\n",
        "</p>\n"
      ]
    },
    {
      "cell_type": "markdown",
      "metadata": {
        "id": "J-7ZaNutk2GO"
      },
      "source": [
        "\n",
        "\n",
        "Tras inspeccionar brevemente los datos proporcionados, usted decide crear una función que realice lo siguiente:\n",
        "- Plotee un histograma para las variables precios y cantidad. [3 puntos]\n",
        "- Imprima un conteo de datos nulos por variable [2 puntos]\n",
        "\n",
        "NOTA: Para generar los gráficos es **OBLIGATORIO** el uso de plotly."
      ]
    },
    {
      "cell_type": "markdown",
      "metadata": {
        "id": "TM8FZ_4Yuiwi"
      },
      "source": [
        "**Respuesta:**"
      ]
    },
    {
      "cell_type": "markdown",
      "metadata": {
        "id": "ErTUjy8ODVQj"
      },
      "source": [
        "\n",
        "\n",
        "**Importante!!!!**\n",
        "> La función explore data en un principio se realizó solo para Price y Quantity, por lo que para la sección 4.2 al hacer explore_data con otras variables como Length, Recency etc, no funcionaba. Por lo anterior se decide generalizar la función explore_data, a la cual se le entrega el df y las variables que deseo plotear o visualizar en un histograma.\n",
        "\n",
        "\n",
        "\n",
        "\n",
        "\n"
      ]
    },
    {
      "cell_type": "code",
      "execution_count": 4,
      "metadata": {
        "id": "0vkp8Ga3Brtr"
      },
      "outputs": [],
      "source": [
        "def explore_data(dataframe_in, column_name):\n",
        "    #recorro las variables que deseo explorar\n",
        "    for x in column_name:\n",
        "      if x in dataframe_in.columns: #se verifica que estén en el df\n",
        "          #se crea el histograma usando Plotly de cada variable\n",
        "          hist = px.histogram(dataframe_in, x=x, title=f\"Histograma de la variable {x}\")\n",
        "          hist.show()\n",
        "      else:\n",
        "          print(f\"La columna '{x}' no existe en el DataFrame.\") #caso en q no exista\n",
        "\n",
        "    #2.imprima un conteo de datos nulos por variable\n",
        "    count_null=dataframe_in.isnull().sum()\n",
        "    print(f'Cantidad de datos null en cada columna:')\n",
        "    display(count_null)"
      ]
    },
    {
      "cell_type": "code",
      "execution_count": null,
      "metadata": {
        "colab": {
          "base_uri": "https://localhost:8080/",
          "height": 1000
        },
        "id": "-vostBaWB4UO",
        "outputId": "460f0584-8f3c-4273-ca55-700785b931f8"
      },
      "outputs": [],
      "source": [
        "explore_data(df_retail,['Price','Quantity'])"
      ]
    },
    {
      "cell_type": "markdown",
      "metadata": {
        "id": "F4ZY_N0Ad1GP"
      },
      "source": [
        "### 2. Eliminando outliers [10 puntos]"
      ]
    },
    {
      "cell_type": "markdown",
      "metadata": {
        "id": "yXTpIi1Bo2KG"
      },
      "source": [
        "<p align=\"center\">\n",
        "  <img width=300 src=\"https://media.licdn.com/dms/image/C5612AQGdXKCka7HumA/article-cover_image-shrink_600_2000/0/1520056407281?e=2147483647&v=beta&t=VZcfjjzjK4LxXdZkSu1KisWC0Ry8bk4tPCn3R8aYdNM\">\n",
        "</p>\n",
        "\n",
        "\n"
      ]
    },
    {
      "cell_type": "markdown",
      "metadata": {
        "id": "ECqH4t-Jvj05"
      },
      "source": [
        "#### 2.1 Creando la clase IQR [5 puntos]"
      ]
    },
    {
      "cell_type": "markdown",
      "metadata": {
        "id": "GtCQGHN_mzEp"
      },
      "source": [
        "Entre las falencias de los datos, Mr. Cheems le comenta que a veces los operadores no ingresan el precio correcto de los productos. Mr. Cheems le comenta que se dio cuenta de este fenómeno porque hay productos con precios exagerádamente altos o bajos. Por lo cual usted decide eliminar outliers del dataframe a traves del rango intercuartil el cual cuenta con los siguientes pasos:\n",
        "\n",
        "1. Calcular el primer cuartil $Q1$ y el tercer cuartil $Q3$. Hint: utilice el método `quantile()`\n",
        "\n",
        "2. Calcular el rango intercuartil (RIC): $RIC = Q3 - Q1$\n",
        "\n",
        "3. Calcular los límites para identificar outliers:\n",
        " - Límite inferior: $~~Q1 - \\lambda \\cdot RIC$\n",
        " - Límite superior: $~~Q3 + \\lambda \\cdot RIC$\n",
        "\n",
        "4. Eliminar outliers: Los outliers son los datos que están por debajo del límite inferior o por encima del límite superior.\n",
        "\n",
        "\n",
        "Para realizar dicha tarea, usted decide crear una clase llamada `IQR()` utilizando `BaseEstimator` y `TransformerMixin` para realizar una transformación de cada una de las columnas numéricas del DataFrame utilizando `ColumnTransformer()` más tarde. Considere que lambda debe ser $\\lambda$ un parámetro a definir por el usuario.\n",
        "\n",
        "Hint: tome como referencia el siguiente [enlace](https://sklearn-template.readthedocs.io/en/latest/user_guide.html#transformer).\n",
        ">**Nota: No modificar el método set_output de la clase IQR**"
      ]
    },
    {
      "cell_type": "markdown",
      "metadata": {
        "id": "3uqK6AZnuhmL"
      },
      "source": [
        "**Respuesta:**"
      ]
    },
    {
      "cell_type": "code",
      "execution_count": 6,
      "metadata": {
        "id": "70CGFkRScKKP"
      },
      "outputs": [],
      "source": [
        "#from _typeshed import NoneType\n",
        "class IQR(BaseEstimator, TransformerMixin):\n",
        "\n",
        "  def __init__(self, lam):\n",
        "    #Completar código aquí\n",
        "    self.lim_inf=None\n",
        "    self.lim_sup=None\n",
        "    self.lam=lam\n",
        "\n",
        "  def fit(self, X, y=None):\n",
        "    #Completar código aquí\n",
        "    q1=X.quantile(0.25)\n",
        "    q3=X.quantile(0.75)\n",
        "    ric=q3-q1\n",
        "    self.lim_inf=q1-self.lam*ric\n",
        "    self.lim_sup=q3+self.lam*ric\n",
        "    return self\n",
        "\n",
        "\n",
        "  def transform(self, X):\n",
        "    #Completar código aquí\n",
        "    for i in X.columns:\n",
        "      X[i]= X[i].clip(lower=self.lim_inf[i],upper=self.lim_sup[i])\n",
        "    return X\n",
        "\n",
        "  def set_output(self,transform='default'):\n",
        "    #No modificar esta función\n",
        "    return self"
      ]
    },
    {
      "cell_type": "markdown",
      "metadata": {
        "id": "Pse94ohOm1um"
      },
      "source": [
        "#### 2.2 Creación del Pipeline [5 puntos]"
      ]
    },
    {
      "cell_type": "markdown",
      "metadata": {
        "id": "JVWWiGA5m_Hj"
      },
      "source": [
        "Para comenzar introduciéndose en el uso de pipeline, usted decide definir un pipeline con el Transformer previamente definido. Además, usted decide visualizar cómo cambia la distribución de las variables Precio y Cantidad antes y despues de aplicar IQR. Para ello, usted aplica los siguientes pasos:\n",
        "\n",
        "- Definir un pipeline llamado `numeric_transformations` para las variables precio y cantidad con la transformación IQR. [1 punto]\n",
        "- Defina un column transformer que aplique `numeric_transformations` para las variables numéricas y `passthrough` para las variables categóricas. Adicionalmente, fije el parámetro `verbose_feature_names_out` en `False`. Ver hint al final [1 puntos]\n",
        "- Defina el dataframe `df_iqr` aplicado el column transformer a los datos proporcionados por Mr. Cheems considerando un valor de $\\lambda$ que tenga un desempeño aceptable para ambas variables. [1 punto]\n",
        "- Usar `explore_data` en `df_retail` y en `df_iqr`.  [1 punto]\n",
        "- Reportar los cambios observados en la distribución de las variables. ¿Qué sucede al aumentar el valor de lambda? [1 punto]\n",
        "\n",
        "\n",
        "HINT: El transformador `passthrough` está predefinido y es una opción que puedes usar para las columnas que no deseas transformar. Al especificar 'passthrough' para una parte de tu ColumnTransformer, las columnas correspondientes pasarán a través del ColumnTransformer sin ninguna modificación. El siguiente [enlace](https://scikit-learn.org/stable/modules/generated/sklearn.compose.ColumnTransformer.html) le puede ser útil.\n",
        ">**Nota: Mantenga el método set_output del column transformer con la transformación `pandas` para obtener un dataframe una vez aplicado el column transformer.**"
      ]
    },
    {
      "cell_type": "markdown",
      "metadata": {
        "id": "vkeizZcLuabD"
      },
      "source": [
        "**Respuesta:**"
      ]
    },
    {
      "cell_type": "markdown",
      "metadata": {
        "id": "LF24vWb4GwLo"
      },
      "source": [
        "Apóyese de la siguiente estructura para su respuesta:"
      ]
    },
    {
      "cell_type": "markdown",
      "metadata": {
        "id": "ZylMM52IX4SJ"
      },
      "source": [
        "buscar un lambda que funcione bn"
      ]
    },
    {
      "cell_type": "code",
      "execution_count": null,
      "metadata": {
        "colab": {
          "base_uri": "https://localhost:8080/"
        },
        "id": "471oayRaDemG",
        "outputId": "dfe28c4e-c745-4446-e8ce-f7e65df7f326"
      },
      "outputs": [],
      "source": [
        "df_retail.columns"
      ]
    },
    {
      "cell_type": "code",
      "execution_count": null,
      "metadata": {
        "colab": {
          "base_uri": "https://localhost:8080/",
          "height": 1000
        },
        "id": "ZaSuz2NSn7g6",
        "outputId": "51749ebe-ccd3-41cf-fda0-af17e4261f33"
      },
      "outputs": [],
      "source": [
        "# Definicion las variables que pasarán por cada pipeline\n",
        "numerical_columns = ['Price','Quantity']\n",
        "categorical_columns = ['Invoice','StockCode','Description','InvoiceDate','Customer ID','Country']\n",
        "\n",
        "# Definicion del pipeline\n",
        "numeric_transformations = Pipeline([('iqr_numerical', IQR(lam=5))])\n",
        "\n",
        "# ColumnTransformer\n",
        "column_transformer = ColumnTransformer([('numerical', numeric_transformations,numerical_columns),\n",
        "                                        ('categorical', 'passthrough',categorical_columns)\n",
        "                                        ],\n",
        "                                        verbose_feature_names_out=False)\n",
        "\n",
        "column_transformer.set_output(transform='pandas')\n",
        "\n",
        "# Aplicamos ColumnTransformer a los datos\n",
        "df_iqr = column_transformer.fit_transform(df_retail)\n",
        "\n",
        "# Gráficos\n",
        "explore_data(df_retail,['Price','Quantity'])\n",
        "explore_data(df_iqr,['Price','Quantity'])"
      ]
    },
    {
      "cell_type": "markdown",
      "metadata": {
        "id": "yPKnc6UcsDkm"
      },
      "source": [
        "*Reporte los cambios observados aquí.*\n",
        "\n",
        "Los cambios observados son únicamente en los histogramas ya que la cantidad de datos null en cada columna se mantienen igual.\n",
        "\n",
        "Por lo anterior, mejoró la visualización de los valores en los histogramas, es decir que no todos se concentran en un solo intervalo sino que es posible detectar como fluctua dependiendo de la cantidad y el precio con mayor especificidad ya que los intervalos del eje X son menos espaciados el uno del otro, a diferencia de los dos primeros histogramas que poseen intervalos más espaciados y solo se ve una barra, solo es posible ver a detalle cuando se realiza un zoom."
      ]
    },
    {
      "cell_type": "markdown",
      "metadata": {
        "id": "MF5s4dqMYCbJ"
      },
      "source": [
        "### 3. Agregando un imputer al pipeline [10 puntos]\n",
        "\n"
      ]
    },
    {
      "cell_type": "markdown",
      "metadata": {
        "id": "2Bc9fFeXp-At"
      },
      "source": [
        "<p align=\"center\">\n",
        "  <img width=300 src=\"https://media.makeameme.org/created/hmm-there-is.jpg\">\n",
        "</p>"
      ]
    },
    {
      "cell_type": "markdown",
      "metadata": {
        "id": "uugEdc26vJ5N"
      },
      "source": [
        "Para continuar con la limpieza del dataframe usted decide imputar los datos nulos de las variables numéricas, para lo cual decide realizar las siguientes tareas:\n",
        "\n",
        "1. Crear un pipeline para variables categóricas llamado `categoric_transformations` con un paso llamado `mode_imputer`, en el cual se imputen los datos faltantes por la categoría más frecuente.\n",
        "2. Agregar al pipeline `numeric_transformations` un paso llamado `mean_imputer`, en el cual se imputen los datos por la media usando [SimpleImputer](https://scikit-learn.org/stable/modules/generated/sklearn.impute.SimpleImputer.html) [1 punto]\n",
        "3. Crear y aplicar un `ColumnTransformer` actualizado con los pipelines `categoric_transformations` y `numeric_transformations` a `df_retail`, creando un dataframe llamado `df_mean_imputer`. [1 punto]\n",
        "4. Comparar los resultados de `explore_data` en `df_mean_imputer` y `df_iqr`. ¿Qué diferencias observa en la distribución de los datos? [2 puntos]\n",
        "5. Cambiar el imputer de `numeric_transformations` por [KNNImputer](https://scikit-learn.org/stable/modules/generated/sklearn.impute.KNNImputer.html) y definir un nuevo dataframe llamado `df_knn_imputer`, aplicando el nuevo ColumnTransformer a `df_retail`. En caso de los tiempos de ejecución sean altos puede probar a reducir el parámetro `n_neighbors`. [1 punto]\n",
        "6. Comparar los resultados de `explore_data` en `df_knn_imputer` y `df_iqr`. ¿Qué diferencias observa en la distribución de los datos? [2 puntos]\n",
        "7. Comparar los resultados de `explore_data` en `df_knn_imputer` y `df_mean_imputer`. ¿Cuál método de imputación es mejor? Deje el método escogido en el ColumnTransformer. [2 puntos]\n",
        "\n",
        ">**Nota: Fije el parámetro verbose_feature_names_out en `False` y utilice el método set_output con transformación `pandas` en cada ColumnTransformer para obtener como salida un dataframe.**"
      ]
    },
    {
      "cell_type": "markdown",
      "metadata": {
        "id": "ACVUdZZxuo4o"
      },
      "source": [
        "**Respuesta:**"
      ]
    },
    {
      "cell_type": "code",
      "execution_count": 9,
      "metadata": {
        "id": "x8jgag-EYFai"
      },
      "outputs": [],
      "source": [
        "# Pregunta 1\n",
        "from sklearn.impute import SimpleImputer\n",
        "#Se agrega el mode imputer por categoría más frecuente\n",
        "categoric_transformations = Pipeline([('mode_imputer', SimpleImputer(strategy='most_frequent'))])"
      ]
    },
    {
      "cell_type": "code",
      "execution_count": 10,
      "metadata": {
        "id": "zcOUVYkHMVxB"
      },
      "outputs": [],
      "source": [
        "# Pregunta 2\n",
        "#Se agrega el paso para que los datos se imputen según el promedio\n",
        "numeric_transformations.steps.append(('mean_imputer', SimpleImputer(strategy='mean')))"
      ]
    },
    {
      "cell_type": "code",
      "execution_count": 11,
      "metadata": {
        "id": "6TwYoHTTMisP"
      },
      "outputs": [],
      "source": [
        "# Pregunta 3\n",
        "#Con los cambios anteriores se aplica un ColumnTrasnformer\n",
        "column_transformer = ColumnTransformer(\n",
        "    [('numeric', numeric_transformations, numerical_columns),\n",
        "     ('categorical', categoric_transformations, categorical_columns)],\n",
        "    verbose_feature_names_out=False\n",
        ")\n",
        "\n",
        "column_transformer.set_output(transform='pandas')\n",
        "df_mean_imputer = column_transformer.fit_transform(df_retail)"
      ]
    },
    {
      "cell_type": "code",
      "execution_count": null,
      "metadata": {
        "colab": {
          "base_uri": "https://localhost:8080/",
          "height": 1000
        },
        "id": "N9HQ5AEvOwtN",
        "outputId": "703e8d72-4562-4da9-9e63-73ca8e7a98bb"
      },
      "outputs": [],
      "source": [
        "# Pregunta 4\n",
        "#Se grafican\n",
        "explore_data(df_iqr,['Price','Quantity'])\n",
        "explore_data(df_mean_imputer,['Price','Quantity'])"
      ]
    },
    {
      "cell_type": "markdown",
      "metadata": {
        "id": "9PfBHpAsvSuD"
      },
      "source": [
        "Las principal diferencia en ambas variables se tiene que ya no hay valores nulos en ninguna columna por lo que los valores de las columnas son menores."
      ]
    },
    {
      "cell_type": "code",
      "execution_count": 14,
      "metadata": {
        "id": "5ZEQf7G1UfII"
      },
      "outputs": [],
      "source": [
        "# Pregunta 5\n",
        "from sklearn.impute import KNNImputer\n",
        "#Se repiten los pasos anteriores pero imputando los datos con KNN\n",
        "numeric_transformations.steps[-1] = ('knn_imputer', KNNImputer(n_neighbors=3))\n",
        "\n",
        "column_transformer.set_output(transform='pandas')\n",
        "df_knn_imputer = column_transformer.fit_transform(df_retail)"
      ]
    },
    {
      "cell_type": "code",
      "execution_count": null,
      "metadata": {
        "colab": {
          "base_uri": "https://localhost:8080/",
          "height": 1000
        },
        "id": "97JWY6n9UneW",
        "outputId": "445fe240-7529-41ec-8939-7b908be2ef7e"
      },
      "outputs": [],
      "source": [
        "# Pregunta 6\n",
        "#Se grafica\n",
        "explore_data(df_iqr,['Price','Quantity'])\n",
        "explore_data(df_knn_imputer,['Price','Quantity'])"
      ]
    },
    {
      "cell_type": "markdown",
      "metadata": {
        "id": "7kaj6MUQUzz4"
      },
      "source": [
        "Se observa que en el caso del knn imputer, existen más barras, tanto en la variable Price, como en la variable Quantity. Esto se debe a que la imputación se basa en los vecinos más cercanos (y no solamente con la media, como se hace en el caso anterior)."
      ]
    },
    {
      "cell_type": "code",
      "execution_count": null,
      "metadata": {
        "colab": {
          "base_uri": "https://localhost:8080/",
          "height": 1000
        },
        "id": "NYHWnbYzU0sM",
        "outputId": "59a8735d-b773-4a79-ff3c-2d173dcfb74b"
      },
      "outputs": [],
      "source": [
        "# Pregunta 7\n",
        "#Se comparan los gráficos finales\n",
        "explore_data(df_mean_imputer,['Price','Quantity'])\n",
        "explore_data(df_knn_imputer,['Price','Quantity'])"
      ]
    },
    {
      "cell_type": "markdown",
      "metadata": {
        "id": "BmEwVX4DU6rY"
      },
      "source": [
        "El método de imputación que es mejor corresponde al KNN, ya que el algoritmo considera las demás variables para la estimación, por lo que corresponderían a valores más exactos."
      ]
    },
    {
      "cell_type": "markdown",
      "metadata": {
        "id": "buuUiW-9YYZ3"
      },
      "source": [
        "### 4. Creación de nuevas features [20 puntos]"
      ]
    },
    {
      "cell_type": "markdown",
      "metadata": {
        "id": "RQSuoL5mubnA"
      },
      "source": [
        "<p align=\"center\">\n",
        "  <img width=250 src=\"https://miro.medium.com/max/1000/1*JtTWgAcfVTWV8OTjT47Atg.jpeg\">\n",
        "</p>\n"
      ]
    },
    {
      "cell_type": "markdown",
      "metadata": {
        "id": "4-yHP5oIvzFS"
      },
      "source": [
        "#### 4.1 Definicion de LRMFP [10 puntos]\n",
        "(2 puntos por cada custom feature)"
      ]
    },
    {
      "cell_type": "markdown",
      "metadata": {
        "id": "qe0V2CnZY8Bc"
      },
      "source": [
        "Dado que Mr. Lepin está interesado en obtener nuevos atributos relevantes para su negocio, su equipo de expertos sugiere la construcción de variables **LRMFP**, las que se construyen en base a las siguientes definiciones:\n",
        "\n",
        "- **Length (L)**: Intervalo de tiempo, en días, entre la primera y la última visita del cliente. Mientras mas grande sea el valor, mas fiel es el cliente.\n",
        "\n",
        "- **Recency (R)**: Indica hace cuanto tiempo el cliente realizo su ultima compra. Notar que para este caso, mientras mas grande es el valor, menos interes posee el usuario para repetir una compra en uno de los locales. **Considere \"hoy\" como la fecha mas reciente del dataset**.\n",
        "\n",
        "- **Monetary (M)**: El término \"monetario\" se refiere a la cantidad media de dinero gastada por cada visita del cliente durante el período de observación y refleja la contribución del cliente a los ingresos de la empresa.\n",
        "\n",
        "- **Frequency (F)**: Se refiere al número total de visitas del cliente durante el periodo de observación. Cuanto mayor sea la frecuencia, mayor será la fidelidad del cliente.\n",
        "\n",
        "- **Periodicity (P)**: Representa si los clientes visitan las tiendas con regularidad.\n",
        "\n",
        "$$Periodicity(n)=std(IVT_1, ..., IVT_n)$$\n",
        "\n",
        "Donde $IVT$ denota el tiempo entre visitas y n representa el número de valores de tiempo entre visitas de un cliente.\n",
        "\n",
        "\n",
        "$$IVT_i=date\\_diff(t_{i+1},t)$$\n",
        "\n",
        "En base a las definiciones señaladas, diseñe una función que permita obtener las características **LRMFP** recibiendo un DataFrame como entrada. Para esto, no estará permitido el uso de iteradores, utilice todas las herramientas que les ofrece `pandas` para realizar esto.\n",
        "\n",
        "Una referencia que le puede ser útil es el [documento original](https://www.researchgate.net/publication/315979555_LRFMP_model_for_customer_segmentation_in_the_grocery_retail_industry_a_case_study) en donde se propone este método."
      ]
    },
    {
      "cell_type": "markdown",
      "metadata": {
        "id": "L7ZwWJxhXMfk"
      },
      "source": [
        "**<u>Formato</u> del Resultado Esperado:**\n",
        "\n",
        "| Customer ID | Length | Recency | Frequency | Monetary | Periodicity |\n",
        "|------------:|-------:|--------:|----------:|---------:|------------:|\n",
        "|   12346.0   |    294 |      67 |        46 |   -64.68 |        37.0 |\n",
        "|   12347.0   |     37 |       3 |        71 |  1323.32 |         0.0 |\n",
        "|   12349.0   |    327 |      43 |       107 |  2646.99 |        78.0 |\n",
        "|   12352.0   |     16 |      11 |        18 |   343.80 |         0.0 |\n",
        "|   12356.0   |     44 |      16 |        84 |  3562.25 |        12.0 |"
      ]
    },
    {
      "cell_type": "markdown",
      "metadata": {
        "id": "6GaQZaMXXMfk"
      },
      "source": [
        "**Respuesta:**"
      ]
    },
    {
      "cell_type": "code",
      "execution_count": null,
      "metadata": {
        "colab": {
          "base_uri": "https://localhost:8080/"
        },
        "id": "7knXOkg3W-pE",
        "outputId": "ab08960c-2e34-4687-d8a8-a97fa05140f5"
      },
      "outputs": [],
      "source": [
        "query_max=df_retail[['Customer ID','InvoiceDate']].groupby('Customer ID').max()\n",
        "ultima_visita=df_retail['InvoiceDate'].max()\n",
        "R=(ultima_visita-query_max['InvoiceDate']).dt.days\n",
        "hoy= pd.Timestamp.now()\n",
        "R1=(hoy-query_max['InvoiceDate']).dt.days"
      ]
    },
    {
      "cell_type": "code",
      "execution_count": null,
      "metadata": {
        "colab": {
          "base_uri": "https://localhost:8080/",
          "height": 489
        },
        "id": "M2UiTxBNXJeY",
        "outputId": "2f0b5abf-3056-4ba4-d93a-3d6fb00f85ad"
      },
      "outputs": [],
      "source": [
        "R1"
      ]
    },
    {
      "cell_type": "code",
      "execution_count": null,
      "metadata": {
        "id": "tU-09jheYcjk"
      },
      "outputs": [],
      "source": [
        "def custom_features(dataframe_in):\n",
        "  dataframe_in.sort_values(['Customer ID','InvoiceDate'],inplace=True)\n",
        "  #Length\n",
        "  query_min=dataframe_in[['Customer ID','InvoiceDate']].groupby('Customer ID').min()\n",
        "  query_max=dataframe_in[['Customer ID','InvoiceDate']].groupby('Customer ID').max()\n",
        "  query_length=query_max['InvoiceDate']-query_min['InvoiceDate']\n",
        "  L=query_length.dt.days\n",
        "  #Recency\n",
        "  hoy= pd.Timestamp.now()\n",
        "  R=(hoy-query_max['InvoiceDate']).dt.days\n",
        "  #Monetary\n",
        "  query_mean=dataframe_in[['Customer ID','Price']].groupby('Customer ID').mean()\n",
        "  M=query_mean['Price']\n",
        "  #Frecuency\n",
        "  count_visit=dataframe_in[['Customer ID','InvoiceDate']].groupby('Customer ID').count()\n",
        "  F=count_visit['InvoiceDate']\n",
        "  #Periodicity\n",
        "  #---IVT\n",
        "  df_ivt=dataframe_in.copy()\n",
        "  df_ivt=df_ivt.sort_values(['Customer ID','InvoiceDate']).drop_duplicates(subset=['Customer ID','InvoiceDate'])\n",
        "  #---agregamos cosas\n",
        "  df_ivt['IVT']=df_ivt.groupby('Customer ID')['InvoiceDate'].diff()\n",
        "  df_ivt['Invoice'] = df_ivt['Invoice'].shift(-1)\n",
        "  query= df_ivt[['Customer ID','IVT']].groupby('Customer ID').std().sort_index()\n",
        "  p=query['IVT'].dt.days\n",
        "  p=p.fillna(0)\n",
        "\n",
        "  #armamos el df de las metricas\n",
        "\n",
        "  df_metrics=pd.DataFrame({\n",
        "                           'Length':L.values,\n",
        "                           'Recency':R.values,\n",
        "                           'Frequency':F.values,\n",
        "                           'Monetary':M.values,\n",
        "                           'Periodicity':p.values}, index=L.index)\n",
        "  return df_metrics\n",
        "\n",
        "\n",
        "\n"
      ]
    },
    {
      "cell_type": "code",
      "execution_count": null,
      "metadata": {
        "colab": {
          "base_uri": "https://localhost:8080/",
          "height": 872
        },
        "id": "cuPWdnU7F1xA",
        "outputId": "aaac7e5e-cca5-4b96-bc77-d150902da845"
      },
      "outputs": [],
      "source": [
        "custom_features(df_retail)"
      ]
    },
    {
      "cell_type": "code",
      "execution_count": null,
      "metadata": {
        "id": "Fe9bt82ao3Hh"
      },
      "outputs": [],
      "source": [
        "#pasar a dataframe\n",
        "def paso_a_df(array):\n",
        "    array = pd.DataFrame(array, columns=['Price', 'Quantity', 'Invoice',\n",
        "                                 'StockCode', 'Description', 'InvoiceDate',\n",
        "                                 'Customer ID', 'Country'])\n",
        "    return array"
      ]
    },
    {
      "cell_type": "markdown",
      "metadata": {
        "id": "1ddL8wThv36t"
      },
      "source": [
        "#### 4.2 Agregando las custom features [10 puntos]"
      ]
    },
    {
      "cell_type": "markdown",
      "metadata": {
        "id": "ehLWiQzjwDm-"
      },
      "source": [
        "Ahora, usted decide agregar al pipeline las nuevas variables creadas, para lo cual realiza las siguientes tareas:\n",
        "\n",
        "1. Cree un nuevo pipeline llamado `retail_pipeline` que encapsule el ColumnTransformer y calcule las LRMFP. El primer paso del pipeline llámelo  `col_tranformer` y el segundo paso llámelo `custom_features`, incorpora las nuevas variables al dataframe. Hint: les puede ser útil investigar [este](https://scikit-learn.org/stable/modules/generated/sklearn.preprocessing.FunctionTransformer.html) método. [1 punto]\n",
        "2. Aplicar el pipeline actualizado a los datos proporcionados por Mr. Cheems, creando un nuevo dataframe llamado `df_custom`. [1 punto]\n",
        "3. Explorar la distribución de las nuevas variables con `explore_data` y comentar brevemente (2-3 líneas) características de cada custom feature. [5 puntos]\n",
        "5. Entregar un insight para el negocio en base a las nuevas variables. [3 puntos]\n",
        "\n",
        ">Nota: Recuerde fijar el parámetro `verbose_feature_names_out` en `False` e incorporar el método `set_output` para obtener una salida en formato dataframe del ColumnTransformer."
      ]
    },
    {
      "cell_type": "markdown",
      "metadata": {
        "id": "HVCGxPgtwFsk"
      },
      "source": [
        "**Respuesta**"
      ]
    },
    {
      "cell_type": "code",
      "execution_count": null,
      "metadata": {
        "id": "JxILi3w0wE9Q"
      },
      "outputs": [],
      "source": [
        "#1 pipeline que encapsule columntransformer y calcule LRMFP\n",
        "retail_pipeline = Pipeline([('col_transformer', column_transformer),\n",
        "                            ('to_dataframe', FunctionTransformer(paso_a_df, validate=False)),\n",
        "                            ('custom_features', FunctionTransformer(custom_features, validate=False))])"
      ]
    },
    {
      "cell_type": "code",
      "execution_count": null,
      "metadata": {
        "colab": {
          "base_uri": "https://localhost:8080/"
        },
        "id": "cZnm3qplcDIL",
        "outputId": "41f023ea-cf9e-46a3-b105-919465f67544"
      },
      "outputs": [],
      "source": [
        "#2 aplicar pipeline actualizado a los datos, creando un nuevo dataframe df_custom\n",
        "df_custom = retail_pipeline.fit_transform(df_retail)"
      ]
    },
    {
      "cell_type": "code",
      "execution_count": null,
      "metadata": {
        "colab": {
          "base_uri": "https://localhost:8080/",
          "height": 1000
        },
        "id": "9EZM-xh8FfN9",
        "outputId": "6ed30d89-9b7b-46c4-b392-7e1a5e0cd806"
      },
      "outputs": [],
      "source": [
        "explore_data(df_custom,['Length','Recency','Monetary','Frequency','Periodicity'])"
      ]
    },
    {
      "cell_type": "markdown",
      "metadata": {
        "id": "iOkkkKZEcY3F"
      },
      "source": [
        "Insight\n",
        "\n",
        ">según el grafico hay bastantes clientes fieles, por lo que es ideal mantener esa clientela incentivandola con descuentos, sorteos, etc.\n",
        "En cambio, Recency tiene baja distribución, por lo que para incentivar que los clientes aumenten sus visitas se deben realizar actividades en el retail donde el cliente pueda ganar productos.\n",
        "Monetary nos dice los intervalos minimos y maximos de lo que gastan en promedio, por lo que se sugiere realizar activaciones del estilo 'Ofertas relampagos', 'oferta de temporada', etc.\n",
        "\n",
        "\n",
        "\n"
      ]
    },
    {
      "cell_type": "markdown",
      "metadata": {
        "id": "qOV0y-e_lS39"
      },
      "source": [
        "### 5. MinMax Scaler [10 puntos]"
      ]
    },
    {
      "cell_type": "markdown",
      "metadata": {
        "id": "T55ZgReXvjGe"
      },
      "source": [
        "<p align=\"center\">\n",
        "  <img width=300 src=\"https://i.imgflip.com/1fsprn.jpg\">\n",
        "</p>\n"
      ]
    },
    {
      "cell_type": "markdown",
      "metadata": {
        "id": "4dk2R1kvuu-e"
      },
      "source": [
        "#### 5.1 Definición del Column Transformer [5 puntos]"
      ]
    },
    {
      "cell_type": "markdown",
      "metadata": {
        "id": "iWsfp1dKXMfo"
      },
      "source": [
        "Construya una clase llamada `MinMax()` para realizar una transformación de cada una de las columnas de un DataFrame utilizando `ColumnTransformer()`. Recuerde  usar `BaseEstimator` y `TransformerMixin`.\n",
        "\n",
        "\n",
        " Para esto considere que Min-Max escaler queda dada por la ecuación:\n",
        "\n",
        "$$MinMax = \\dfrac{x-min(x)}{max(x) - min(x)}$$\n",
        "\n",
        "\n",
        "Consulte el siguiente [link](https://sklearn-template.readthedocs.io/en/latest/user_guide.html#transformer) si tiene dudas sobre la creación de custom transformers."
      ]
    },
    {
      "cell_type": "markdown",
      "metadata": {
        "id": "MUOLTWPDXMfo"
      },
      "source": [
        "**Respuesta:**"
      ]
    },
    {
      "cell_type": "code",
      "execution_count": 17,
      "metadata": {
        "id": "g15ZMCs-XMfo"
      },
      "outputs": [],
      "source": [
        "class MinMax(BaseEstimator, TransformerMixin):\n",
        "    def __init__(self):\n",
        "        self.min = None\n",
        "        self.max = None\n",
        "\n",
        "    def fit(self,X):\n",
        "        self.min = X.min()\n",
        "        self.max = X.max()\n",
        "        return self\n",
        "\n",
        "    def transform(self,X):\n",
        "        return (X - self.min) / (self.max - self.min)\n",
        "\n",
        "    def set_output(self,transform='default'):\n",
        "        #No modificar este método\n",
        "        return self\n",
        "\n"
      ]
    },
    {
      "cell_type": "markdown",
      "metadata": {
        "id": "RySqWq1Muzp8"
      },
      "source": [
        "#### 5.2 Incorporando MinMax al pipeline [5 puntos]"
      ]
    },
    {
      "cell_type": "markdown",
      "metadata": {
        "id": "zmIqjkgDwRsV"
      },
      "source": [
        "Ahora, usted decide agregar el escalamiento al pipeline, para lo que decide seguir los siguientes pasos:\n",
        "\n",
        "- Agregar el paso `minmax` al pipeline `numeric_transformations`, haciendo uso de la clase creada. [1 punto]\n",
        "- Defina el dataframe `df_minmax` aplicando el ColumnTransformer actualizado a los datos proporcionados por Mr. Cheems. [1 punto]\n",
        "- Usar `explore_data` en `df_retail` y en `df_minmax`. [1 punto]\n",
        "- Reportar los cambios observados en la distribución de las variables.  [2 puntos]\n",
        "\n",
        ">Nota: Recuerde fijar el parámetro `verbose_feature_names_out` en `False` e incorporar el método `set_output` para obtener una salida en formato dataframe del ColumnTransformer."
      ]
    },
    {
      "cell_type": "markdown",
      "metadata": {
        "id": "lL2_CyAGXMfp"
      },
      "source": [
        "**Respuesta:**"
      ]
    },
    {
      "cell_type": "code",
      "execution_count": 18,
      "metadata": {
        "id": "NmApXgB8XMfp"
      },
      "outputs": [],
      "source": [
        "# Paso 1\n",
        "numeric_transformations.steps.append(('minmax', MinMax()))"
      ]
    },
    {
      "cell_type": "code",
      "execution_count": null,
      "metadata": {
        "colab": {
          "base_uri": "https://localhost:8080/",
          "height": 423
        },
        "id": "0fxc_blsf5Mu",
        "outputId": "b1ec9903-321c-468b-d90d-6dce96397b35"
      },
      "outputs": [],
      "source": [
        "# Paso 2\n",
        "column_transformer = ColumnTransformer([('numeric', numeric_transformations, numerical_columns),\n",
        "                                        ('categorical', categoric_transformations, categorical_columns)\n",
        "                                        ],\n",
        "                                        verbose_feature_names_out=False)\n",
        "\n",
        "column_transformer.set_output(transform='pandas')\n",
        "df_minmax = column_transformer.fit_transform(df_retail)\n",
        "\n",
        "df_minmax"
      ]
    },
    {
      "cell_type": "code",
      "execution_count": null,
      "metadata": {
        "colab": {
          "base_uri": "https://localhost:8080/",
          "height": 1000
        },
        "id": "VHkk_32sgcK0",
        "outputId": "6af5191b-7c22-4483-9cd1-b2a89f0cff13"
      },
      "outputs": [],
      "source": [
        "# Paso 3\n",
        "explore_data(df_retail,['Price','Quantity'])\n",
        "explore_data(df_minmax,['Price','Quantity'])"
      ]
    },
    {
      "cell_type": "markdown",
      "metadata": {
        "id": "GzbblMPMgi6U"
      },
      "source": [
        "Se observa de mejor manera la distribución de las variables en df_minmax que en df_retail, ya que se normalizaron según el maximo y el mínimo de estas."
      ]
    },
    {
      "cell_type": "markdown",
      "metadata": {
        "id": "iWXlAO8-wfNt"
      },
      "source": [
        "### 6. Pregunta teórica [5 puntos]"
      ]
    },
    {
      "cell_type": "markdown",
      "metadata": {
        "id": "JvsFRwpVtMh_"
      },
      "source": [
        "<p align=\"center\">\n",
        "  <img width=300 src=\"https://file.coinexstatic.com/2023-09-19/166BAC031F222E5910954E7D7D0BC844.png\">\n",
        "</p>"
      ]
    },
    {
      "cell_type": "markdown",
      "metadata": {
        "id": "Ou7lQIAHwiZv"
      },
      "source": [
        "Finalmente, explíquele a Mr. Cheems porqué es útil la creación de pipelines al momento de hacer Feature Engineering en Machine Learning."
      ]
    },
    {
      "cell_type": "markdown",
      "metadata": {
        "id": "29QJyzOCwjdD"
      },
      "source": [
        "**Respuesta:**"
      ]
    },
    {
      "cell_type": "markdown",
      "metadata": {
        "id": "YMDYYL1stUVO"
      },
      "source": [
        "Los pipelines organizan el preprocesamiento de datos, asegurando que cada paso se aplique de manera consistente y reproducible en diferentes datasets. Esto mejora la eficiencia y evita errores manuales, permitiendo un flujo de trabajo más limpio y automatizado."
      ]
    },
    {
      "cell_type": "markdown",
      "metadata": {
        "id": "Rg4ZMq8ezAH6"
      },
      "source": [
        "# Conclusión\n",
        "Eso ha sido todo para el lab de hoy, recuerden que el laboratorio tiene un plazo de entrega de una semana. Cualquier duda del laboratorio, no duden en contactarnos por el foro de U-cursos o por correo.\n",
        "\n",
        "![Gracias Totales!](https://i.pinimg.com/originals/65/ae/27/65ae270df87c3c4adcea997e48f60852.gif \"bruno\")\n"
      ]
    },
    {
      "cell_type": "markdown",
      "metadata": {
        "id": "wCL1lACBzAH7"
      },
      "source": [
        "<br>\n",
        "<center>\n",
        "<img src=\"https://i.kym-cdn.com/photos/images/original/001/194/195/b18.png\" width=100 height=50 />\n",
        "</center>\n",
        "<br>"
      ]
    },
    {
      "cell_type": "markdown",
      "metadata": {
        "id": "ALHqwrAFXMgD"
      },
      "source": [
        "<a style='text-decoration:none;line-height:16px;display:flex;color:#5B5B62;padding:10px;justify-content:end;' href='https://deepnote.com?utm_source=created-in-deepnote-cell&projectId=87110296-876e-426f-b91d-aaf681223468' target=\"_blank\">\n",
        "<img alt='Created in deepnote.com' style='display:inline;max-height:16px;margin:0px;margin-right:7.5px;' src='data:image/svg+xml;base64,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' > </img>\n",
        "Created in <span style='font-weight:600;margin-left:4px;'>Deepnote</span></a>"
      ]
    }
  ],
  "metadata": {
    "colab": {
      "collapsed_sections": [
        "qOV0y-e_lS39",
        "iWXlAO8-wfNt"
      ],
      "provenance": []
    },
    "deepnote_execution_queue": [],
    "deepnote_notebook_id": "33c253a4f84d40a091bd5023e95abb64",
    "kernelspec": {
      "display_name": "Lab_MDS_Primavera",
      "language": "python",
      "name": "python3"
    },
    "language_info": {
      "codemirror_mode": {
        "name": "ipython",
        "version": 3
      },
      "file_extension": ".py",
      "mimetype": "text/x-python",
      "name": "python",
      "nbconvert_exporter": "python",
      "pygments_lexer": "ipython3",
      "version": "3.12.0"
    }
  },
  "nbformat": 4,
  "nbformat_minor": 0
}
